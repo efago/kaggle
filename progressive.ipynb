{
 "cells": [
  {
   "cell_type": "code",
   "execution_count": 1,
   "metadata": {},
   "outputs": [],
   "source": [
    "import numpy as np\n",
    "import pandas as pd"
   ]
  },
  {
   "cell_type": "code",
   "execution_count": 2,
   "metadata": {},
   "outputs": [],
   "source": [
    "def binarize(df):\n",
    "    for col in ['authorized_flag', 'category_1']:\n",
    "        df[col] = df[col].map({'Y':1, 'N':0})\n",
    "    return df\n",
    "\n",
    "historical_transactions= pd.read_csv( 'historical_transactions.csv')\n",
    "new_transactions= pd.read_csv( 'new_merchant_transactions.csv')\n",
    "train= pd.read_csv('train.csv')\n",
    "test= pd.read_csv('test.csv')\n",
    "historical_transactions = binarize(historical_transactions)\n",
    "new_transactions = binarize(new_transactions)"
   ]
  },
  {
   "cell_type": "code",
   "execution_count": 3,
   "metadata": {},
   "outputs": [],
   "source": [
    "import datetime\n",
    "train['first_active_month'] = pd.to_datetime(train['first_active_month'])\n",
    "test['first_active_month'] = pd.to_datetime(test['first_active_month'])\n",
    "train['elapsed_time'] = (datetime.date(2018, 2, 1) - train['first_active_month'].dt.date).dt.days\n",
    "test['elapsed_time'] = (datetime.date(2018, 2, 1) - test['first_active_month'].dt.date).dt.days\n",
    "target = train['target']\n",
    "del train['target']"
   ]
  },
  {
   "cell_type": "code",
   "execution_count": 4,
   "metadata": {},
   "outputs": [],
   "source": [
    "historical_transactions.purchase_date= pd.to_datetime(historical_transactions.purchase_date)\n",
    "new_transactions.purchase_date= pd.to_datetime(new_transactions.purchase_date)\n",
    "historical_transactions['month_diff'] = ((datetime.datetime.today() - historical_transactions['purchase_date']).dt.days)//30\n",
    "historical_transactions['month_diff'] += historical_transactions['month_lag']\n",
    "new_transactions['month_diff'] = ((datetime.datetime.today() - new_transactions['purchase_date']).dt.days)//30\n",
    "new_transactions['month_diff'] += new_transactions['month_lag']"
   ]
  },
  {
   "cell_type": "code",
   "execution_count": 5,
   "metadata": {},
   "outputs": [],
   "source": [
    "historical_transactions = pd.get_dummies(historical_transactions, columns=['category_2', 'category_3'])\n",
    "new_transactions = pd.get_dummies(new_transactions, columns=['category_2', 'category_3'])\n",
    "agg_fun = {'authorized_flag': ['mean']}\n",
    "auth_mean = historical_transactions.groupby(['card_id']).agg(agg_fun)\n",
    "auth_mean.columns = ['_'.join(col).strip() for col in auth_mean.columns.values]\n",
    "auth_mean.reset_index(inplace=True)\n",
    "authorized_transactions = historical_transactions[historical_transactions['authorized_flag'] == 1]\n",
    "historical_transactions = historical_transactions[historical_transactions['authorized_flag'] == 0]"
   ]
  },
  {
   "cell_type": "code",
   "execution_count": 6,
   "metadata": {},
   "outputs": [],
   "source": [
    "historical_transactions['purchase_month'] = historical_transactions['purchase_date'].dt.month\n",
    "authorized_transactions['purchase_month'] = authorized_transactions['purchase_date'].dt.month\n",
    "new_transactions['purchase_month'] = new_transactions['purchase_date'].dt.month"
   ]
  },
  {
   "cell_type": "code",
   "execution_count": 7,
   "metadata": {},
   "outputs": [],
   "source": [
    "def aggregate_transactions(history):\n",
    "    \n",
    "    history.loc[:, 'purchase_date'] = pd.DatetimeIndex(history['purchase_date']).\\\n",
    "                                      astype(np.int64) * 1e-9\n",
    "    \n",
    "    agg_func = {\n",
    "    'category_1': ['sum', 'mean'],\n",
    "    'category_2_1.0': ['mean'],\n",
    "    'category_2_2.0': ['mean'],\n",
    "    'category_2_3.0': ['mean'],\n",
    "    'category_2_4.0': ['mean'],\n",
    "    'category_2_5.0': ['mean'],\n",
    "    'category_3_A': ['mean'],\n",
    "    'category_3_B': ['mean'],\n",
    "    'category_3_C': ['mean'],\n",
    "    'merchant_id': ['nunique'],\n",
    "    'merchant_category_id': ['nunique'],\n",
    "    'state_id': ['nunique'],\n",
    "    'city_id': ['nunique'],\n",
    "    'subsector_id': ['nunique'],\n",
    "    'purchase_amount': ['sum', 'mean', 'max', 'min', 'std'],\n",
    "    'installments': ['sum', 'mean', 'max', 'min', 'std'],\n",
    "    'purchase_month': ['mean', 'max', 'min', 'std'],\n",
    "    'purchase_date': [np.ptp, 'min', 'max'],\n",
    "    'month_lag': ['mean', 'max', 'min', 'std'],\n",
    "    'month_diff': ['mean']\n",
    "    }\n",
    "    \n",
    "    agg_history = history.groupby(['card_id']).agg(agg_func)\n",
    "    agg_history.columns = ['_'.join(col).strip() for col in agg_history.columns.values]\n",
    "    agg_history.reset_index(inplace=True)\n",
    "    \n",
    "    df = (history.groupby('card_id')\n",
    "          .size()\n",
    "          .reset_index(name='transactions_count'))\n",
    "    \n",
    "    agg_history = pd.merge(df, agg_history, on='card_id', how='left')\n",
    "    \n",
    "    return agg_history"
   ]
  },
  {
   "cell_type": "code",
   "execution_count": 8,
   "metadata": {},
   "outputs": [],
   "source": [
    "history = aggregate_transactions(historical_transactions)\n",
    "history.columns = ['hist_' + c if c != 'card_id' else c for c in history.columns]"
   ]
  },
  {
   "cell_type": "code",
   "execution_count": 9,
   "metadata": {},
   "outputs": [
    {
     "data": {
      "text/html": [
       "<div>\n",
       "<style scoped>\n",
       "    .dataframe tbody tr th:only-of-type {\n",
       "        vertical-align: middle;\n",
       "    }\n",
       "\n",
       "    .dataframe tbody tr th {\n",
       "        vertical-align: top;\n",
       "    }\n",
       "\n",
       "    .dataframe thead th {\n",
       "        text-align: right;\n",
       "    }\n",
       "</style>\n",
       "<table border=\"1\" class=\"dataframe\">\n",
       "  <thead>\n",
       "    <tr style=\"text-align: right;\">\n",
       "      <th></th>\n",
       "      <th>card_id</th>\n",
       "      <th>month_lag_mean</th>\n",
       "      <th>month_lag_std</th>\n",
       "      <th>purchase_amount_count_mean</th>\n",
       "      <th>purchase_amount_count_std</th>\n",
       "      <th>purchase_amount_sum_mean</th>\n",
       "      <th>purchase_amount_sum_std</th>\n",
       "      <th>purchase_amount_mean_mean</th>\n",
       "      <th>purchase_amount_mean_std</th>\n",
       "      <th>purchase_amount_min_mean</th>\n",
       "      <th>...</th>\n",
       "      <th>installments_sum_mean</th>\n",
       "      <th>installments_sum_std</th>\n",
       "      <th>installments_mean_mean</th>\n",
       "      <th>installments_mean_std</th>\n",
       "      <th>installments_min_mean</th>\n",
       "      <th>installments_min_std</th>\n",
       "      <th>installments_max_mean</th>\n",
       "      <th>installments_max_std</th>\n",
       "      <th>installments_std_mean</th>\n",
       "      <th>installments_std_std</th>\n",
       "    </tr>\n",
       "  </thead>\n",
       "  <tbody>\n",
       "    <tr>\n",
       "      <th>0</th>\n",
       "      <td>C_ID_00007093c1</td>\n",
       "      <td>-6.000000</td>\n",
       "      <td>3.894440</td>\n",
       "      <td>8.769231</td>\n",
       "      <td>3.539158</td>\n",
       "      <td>-4.803314</td>\n",
       "      <td>2.175011</td>\n",
       "      <td>-0.536131</td>\n",
       "      <td>0.075418</td>\n",
       "      <td>-0.702649</td>\n",
       "      <td>...</td>\n",
       "      <td>11.307692</td>\n",
       "      <td>4.210792</td>\n",
       "      <td>1.369646</td>\n",
       "      <td>0.423190</td>\n",
       "      <td>1.000000</td>\n",
       "      <td>0.000000</td>\n",
       "      <td>2.538462</td>\n",
       "      <td>1.613246</td>\n",
       "      <td>0.625428</td>\n",
       "      <td>0.675607</td>\n",
       "    </tr>\n",
       "    <tr>\n",
       "      <th>1</th>\n",
       "      <td>C_ID_0001238066</td>\n",
       "      <td>-2.500000</td>\n",
       "      <td>1.870829</td>\n",
       "      <td>20.000000</td>\n",
       "      <td>11.696153</td>\n",
       "      <td>-11.776212</td>\n",
       "      <td>6.676914</td>\n",
       "      <td>-0.603215</td>\n",
       "      <td>0.046045</td>\n",
       "      <td>-0.730351</td>\n",
       "      <td>...</td>\n",
       "      <td>32.500000</td>\n",
       "      <td>24.501020</td>\n",
       "      <td>1.652873</td>\n",
       "      <td>0.410539</td>\n",
       "      <td>0.666667</td>\n",
       "      <td>0.816497</td>\n",
       "      <td>4.666667</td>\n",
       "      <td>2.875181</td>\n",
       "      <td>1.256525</td>\n",
       "      <td>0.521292</td>\n",
       "    </tr>\n",
       "    <tr>\n",
       "      <th>2</th>\n",
       "      <td>C_ID_0001506ef0</td>\n",
       "      <td>-6.230769</td>\n",
       "      <td>4.225988</td>\n",
       "      <td>4.769231</td>\n",
       "      <td>4.342692</td>\n",
       "      <td>-2.438161</td>\n",
       "      <td>2.902501</td>\n",
       "      <td>-0.446660</td>\n",
       "      <td>0.271125</td>\n",
       "      <td>-0.725724</td>\n",
       "      <td>...</td>\n",
       "      <td>0.000000</td>\n",
       "      <td>0.000000</td>\n",
       "      <td>0.000000</td>\n",
       "      <td>0.000000</td>\n",
       "      <td>0.000000</td>\n",
       "      <td>0.000000</td>\n",
       "      <td>0.000000</td>\n",
       "      <td>0.000000</td>\n",
       "      <td>0.000000</td>\n",
       "      <td>0.000000</td>\n",
       "    </tr>\n",
       "    <tr>\n",
       "      <th>3</th>\n",
       "      <td>C_ID_0001793786</td>\n",
       "      <td>-4.500000</td>\n",
       "      <td>3.027650</td>\n",
       "      <td>18.900000</td>\n",
       "      <td>12.160501</td>\n",
       "      <td>-2.496067</td>\n",
       "      <td>4.018810</td>\n",
       "      <td>-0.005687</td>\n",
       "      <td>0.271221</td>\n",
       "      <td>-0.646277</td>\n",
       "      <td>...</td>\n",
       "      <td>0.000000</td>\n",
       "      <td>0.000000</td>\n",
       "      <td>0.000000</td>\n",
       "      <td>0.000000</td>\n",
       "      <td>0.000000</td>\n",
       "      <td>0.000000</td>\n",
       "      <td>0.000000</td>\n",
       "      <td>0.000000</td>\n",
       "      <td>0.000000</td>\n",
       "      <td>0.000000</td>\n",
       "    </tr>\n",
       "    <tr>\n",
       "      <th>4</th>\n",
       "      <td>C_ID_000183fdda</td>\n",
       "      <td>-2.500000</td>\n",
       "      <td>1.870829</td>\n",
       "      <td>22.833333</td>\n",
       "      <td>7.167054</td>\n",
       "      <td>-11.316093</td>\n",
       "      <td>4.800612</td>\n",
       "      <td>-0.489227</td>\n",
       "      <td>0.141015</td>\n",
       "      <td>-0.728405</td>\n",
       "      <td>...</td>\n",
       "      <td>40.833333</td>\n",
       "      <td>14.048725</td>\n",
       "      <td>1.834943</td>\n",
       "      <td>0.362557</td>\n",
       "      <td>0.333333</td>\n",
       "      <td>1.032796</td>\n",
       "      <td>9.166667</td>\n",
       "      <td>2.041241</td>\n",
       "      <td>2.144389</td>\n",
       "      <td>0.665529</td>\n",
       "    </tr>\n",
       "    <tr>\n",
       "      <th>5</th>\n",
       "      <td>C_ID_00024e244b</td>\n",
       "      <td>-6.384615</td>\n",
       "      <td>4.330867</td>\n",
       "      <td>4.076923</td>\n",
       "      <td>4.290717</td>\n",
       "      <td>-2.557396</td>\n",
       "      <td>2.089708</td>\n",
       "      <td>-0.685118</td>\n",
       "      <td>0.071894</td>\n",
       "      <td>-0.728885</td>\n",
       "      <td>...</td>\n",
       "      <td>0.000000</td>\n",
       "      <td>0.000000</td>\n",
       "      <td>0.000000</td>\n",
       "      <td>0.000000</td>\n",
       "      <td>0.000000</td>\n",
       "      <td>0.000000</td>\n",
       "      <td>0.000000</td>\n",
       "      <td>0.000000</td>\n",
       "      <td>0.000000</td>\n",
       "      <td>0.000000</td>\n",
       "    </tr>\n",
       "    <tr>\n",
       "      <th>6</th>\n",
       "      <td>C_ID_0002709b5a</td>\n",
       "      <td>-5.000000</td>\n",
       "      <td>3.316625</td>\n",
       "      <td>6.090909</td>\n",
       "      <td>3.505839</td>\n",
       "      <td>-3.994622</td>\n",
       "      <td>2.440540</td>\n",
       "      <td>-0.638637</td>\n",
       "      <td>0.060836</td>\n",
       "      <td>-0.700104</td>\n",
       "      <td>...</td>\n",
       "      <td>10.727273</td>\n",
       "      <td>8.427229</td>\n",
       "      <td>1.965729</td>\n",
       "      <td>1.287108</td>\n",
       "      <td>0.818182</td>\n",
       "      <td>0.603023</td>\n",
       "      <td>3.818182</td>\n",
       "      <td>3.341203</td>\n",
       "      <td>1.600058</td>\n",
       "      <td>1.734256</td>\n",
       "    </tr>\n",
       "    <tr>\n",
       "      <th>7</th>\n",
       "      <td>C_ID_00027503e2</td>\n",
       "      <td>-4.000000</td>\n",
       "      <td>2.738613</td>\n",
       "      <td>2.666667</td>\n",
       "      <td>1.224745</td>\n",
       "      <td>-1.974976</td>\n",
       "      <td>0.909525</td>\n",
       "      <td>-0.740077</td>\n",
       "      <td>0.002424</td>\n",
       "      <td>-0.742206</td>\n",
       "      <td>...</td>\n",
       "      <td>0.000000</td>\n",
       "      <td>0.000000</td>\n",
       "      <td>0.000000</td>\n",
       "      <td>0.000000</td>\n",
       "      <td>0.000000</td>\n",
       "      <td>0.000000</td>\n",
       "      <td>0.000000</td>\n",
       "      <td>0.000000</td>\n",
       "      <td>0.000000</td>\n",
       "      <td>0.000000</td>\n",
       "    </tr>\n",
       "    <tr>\n",
       "      <th>8</th>\n",
       "      <td>C_ID_000298032a</td>\n",
       "      <td>-5.250000</td>\n",
       "      <td>4.334249</td>\n",
       "      <td>3.500000</td>\n",
       "      <td>1.772811</td>\n",
       "      <td>-1.844563</td>\n",
       "      <td>0.699127</td>\n",
       "      <td>-0.590214</td>\n",
       "      <td>0.168008</td>\n",
       "      <td>-0.686623</td>\n",
       "      <td>...</td>\n",
       "      <td>0.000000</td>\n",
       "      <td>0.000000</td>\n",
       "      <td>0.000000</td>\n",
       "      <td>0.000000</td>\n",
       "      <td>0.000000</td>\n",
       "      <td>0.000000</td>\n",
       "      <td>0.000000</td>\n",
       "      <td>0.000000</td>\n",
       "      <td>0.000000</td>\n",
       "      <td>0.000000</td>\n",
       "    </tr>\n",
       "    <tr>\n",
       "      <th>9</th>\n",
       "      <td>C_ID_0002ba3c2e</td>\n",
       "      <td>-4.666667</td>\n",
       "      <td>3.141125</td>\n",
       "      <td>9.166667</td>\n",
       "      <td>4.665476</td>\n",
       "      <td>-5.843052</td>\n",
       "      <td>3.021165</td>\n",
       "      <td>-0.638037</td>\n",
       "      <td>0.044976</td>\n",
       "      <td>-0.721448</td>\n",
       "      <td>...</td>\n",
       "      <td>0.000000</td>\n",
       "      <td>0.000000</td>\n",
       "      <td>0.000000</td>\n",
       "      <td>0.000000</td>\n",
       "      <td>0.000000</td>\n",
       "      <td>0.000000</td>\n",
       "      <td>0.000000</td>\n",
       "      <td>0.000000</td>\n",
       "      <td>0.000000</td>\n",
       "      <td>0.000000</td>\n",
       "    </tr>\n",
       "  </tbody>\n",
       "</table>\n",
       "<p>10 rows × 27 columns</p>\n",
       "</div>"
      ],
      "text/plain": [
       "           card_id  month_lag_mean  month_lag_std  purchase_amount_count_mean  \\\n",
       "0  C_ID_00007093c1       -6.000000       3.894440                    8.769231   \n",
       "1  C_ID_0001238066       -2.500000       1.870829                   20.000000   \n",
       "2  C_ID_0001506ef0       -6.230769       4.225988                    4.769231   \n",
       "3  C_ID_0001793786       -4.500000       3.027650                   18.900000   \n",
       "4  C_ID_000183fdda       -2.500000       1.870829                   22.833333   \n",
       "5  C_ID_00024e244b       -6.384615       4.330867                    4.076923   \n",
       "6  C_ID_0002709b5a       -5.000000       3.316625                    6.090909   \n",
       "7  C_ID_00027503e2       -4.000000       2.738613                    2.666667   \n",
       "8  C_ID_000298032a       -5.250000       4.334249                    3.500000   \n",
       "9  C_ID_0002ba3c2e       -4.666667       3.141125                    9.166667   \n",
       "\n",
       "   purchase_amount_count_std  purchase_amount_sum_mean  \\\n",
       "0                   3.539158                 -4.803314   \n",
       "1                  11.696153                -11.776212   \n",
       "2                   4.342692                 -2.438161   \n",
       "3                  12.160501                 -2.496067   \n",
       "4                   7.167054                -11.316093   \n",
       "5                   4.290717                 -2.557396   \n",
       "6                   3.505839                 -3.994622   \n",
       "7                   1.224745                 -1.974976   \n",
       "8                   1.772811                 -1.844563   \n",
       "9                   4.665476                 -5.843052   \n",
       "\n",
       "   purchase_amount_sum_std  purchase_amount_mean_mean  \\\n",
       "0                 2.175011                  -0.536131   \n",
       "1                 6.676914                  -0.603215   \n",
       "2                 2.902501                  -0.446660   \n",
       "3                 4.018810                  -0.005687   \n",
       "4                 4.800612                  -0.489227   \n",
       "5                 2.089708                  -0.685118   \n",
       "6                 2.440540                  -0.638637   \n",
       "7                 0.909525                  -0.740077   \n",
       "8                 0.699127                  -0.590214   \n",
       "9                 3.021165                  -0.638037   \n",
       "\n",
       "   purchase_amount_mean_std  purchase_amount_min_mean          ...           \\\n",
       "0                  0.075418                 -0.702649          ...            \n",
       "1                  0.046045                 -0.730351          ...            \n",
       "2                  0.271125                 -0.725724          ...            \n",
       "3                  0.271221                 -0.646277          ...            \n",
       "4                  0.141015                 -0.728405          ...            \n",
       "5                  0.071894                 -0.728885          ...            \n",
       "6                  0.060836                 -0.700104          ...            \n",
       "7                  0.002424                 -0.742206          ...            \n",
       "8                  0.168008                 -0.686623          ...            \n",
       "9                  0.044976                 -0.721448          ...            \n",
       "\n",
       "   installments_sum_mean  installments_sum_std  installments_mean_mean  \\\n",
       "0              11.307692              4.210792                1.369646   \n",
       "1              32.500000             24.501020                1.652873   \n",
       "2               0.000000              0.000000                0.000000   \n",
       "3               0.000000              0.000000                0.000000   \n",
       "4              40.833333             14.048725                1.834943   \n",
       "5               0.000000              0.000000                0.000000   \n",
       "6              10.727273              8.427229                1.965729   \n",
       "7               0.000000              0.000000                0.000000   \n",
       "8               0.000000              0.000000                0.000000   \n",
       "9               0.000000              0.000000                0.000000   \n",
       "\n",
       "   installments_mean_std  installments_min_mean  installments_min_std  \\\n",
       "0               0.423190               1.000000              0.000000   \n",
       "1               0.410539               0.666667              0.816497   \n",
       "2               0.000000               0.000000              0.000000   \n",
       "3               0.000000               0.000000              0.000000   \n",
       "4               0.362557               0.333333              1.032796   \n",
       "5               0.000000               0.000000              0.000000   \n",
       "6               1.287108               0.818182              0.603023   \n",
       "7               0.000000               0.000000              0.000000   \n",
       "8               0.000000               0.000000              0.000000   \n",
       "9               0.000000               0.000000              0.000000   \n",
       "\n",
       "   installments_max_mean  installments_max_std  installments_std_mean  \\\n",
       "0               2.538462              1.613246               0.625428   \n",
       "1               4.666667              2.875181               1.256525   \n",
       "2               0.000000              0.000000               0.000000   \n",
       "3               0.000000              0.000000               0.000000   \n",
       "4               9.166667              2.041241               2.144389   \n",
       "5               0.000000              0.000000               0.000000   \n",
       "6               3.818182              3.341203               1.600058   \n",
       "7               0.000000              0.000000               0.000000   \n",
       "8               0.000000              0.000000               0.000000   \n",
       "9               0.000000              0.000000               0.000000   \n",
       "\n",
       "   installments_std_std  \n",
       "0              0.675607  \n",
       "1              0.521292  \n",
       "2              0.000000  \n",
       "3              0.000000  \n",
       "4              0.665529  \n",
       "5              0.000000  \n",
       "6              1.734256  \n",
       "7              0.000000  \n",
       "8              0.000000  \n",
       "9              0.000000  \n",
       "\n",
       "[10 rows x 27 columns]"
      ]
     },
     "execution_count": 9,
     "metadata": {},
     "output_type": "execute_result"
    }
   ],
   "source": [
    "authorized = aggregate_transactions(authorized_transactions)\n",
    "authorized.columns = ['auth_' + c if c != 'card_id' else c for c in authorized.columns]\n",
    "new = aggregate_transactions(new_transactions)\n",
    "new.columns = ['new_' + c if c != 'card_id' else c for c in new.columns]\n",
    "def aggregate_per_month(history):\n",
    "    grouped = history.groupby(['card_id', 'month_lag'])\n",
    "\n",
    "    agg_func = {\n",
    "            'purchase_amount': ['count', 'sum', 'mean', 'min', 'max', 'std'],\n",
    "            'installments': ['count', 'sum', 'mean', 'min', 'max', 'std'],\n",
    "            }\n",
    "\n",
    "    intermediate_group = grouped.agg(agg_func)\n",
    "    intermediate_group.columns = ['_'.join(col).strip() for col in intermediate_group.columns.values]\n",
    "    intermediate_group.reset_index(inplace=True)\n",
    "\n",
    "    final_group = intermediate_group.groupby('card_id').agg(['mean', 'std'])\n",
    "    final_group.columns = ['_'.join(col).strip() for col in final_group.columns.values]\n",
    "    final_group.reset_index(inplace=True)\n",
    "    \n",
    "    return final_group\n",
    "final_group =  aggregate_per_month(authorized_transactions) \n",
    "final_group[:10]"
   ]
  },
  {
   "cell_type": "code",
   "execution_count": 10,
   "metadata": {},
   "outputs": [],
   "source": [
    "def successive_aggregates(df, field1, field2):\n",
    "    t = df.groupby(['card_id', field1])[field2].mean()\n",
    "    u = pd.DataFrame(t).reset_index().groupby('card_id')[field2].agg(['mean', 'min', 'max', 'std'])\n",
    "    u.columns = [field1 + '_' + field2 + '_' + col for col in u.columns.values]\n",
    "    u.reset_index(inplace=True)\n",
    "    return u\n",
    "additional_fields = successive_aggregates(new_transactions, 'category_1', 'purchase_amount')\n",
    "additional_fields = additional_fields.merge(successive_aggregates(new_transactions, 'installments', 'purchase_amount'),\n",
    "                                            on = 'card_id', how='left')\n",
    "additional_fields = additional_fields.merge(successive_aggregates(new_transactions, 'city_id', 'purchase_amount'),\n",
    "                                            on = 'card_id', how='left')\n",
    "additional_fields = additional_fields.merge(successive_aggregates(new_transactions, 'category_1', 'installments'),\n",
    "                                            on = 'card_id', how='left')"
   ]
  },
  {
   "cell_type": "code",
   "execution_count": 34,
   "metadata": {},
   "outputs": [],
   "source": [
    "train = pd.merge(train, history, on='card_id', how='left')\n",
    "test = pd.merge(test, history, on='card_id', how='left')\n",
    "\n",
    "train = pd.merge(train, authorized, on='card_id', how='left')\n",
    "test = pd.merge(test, authorized, on='card_id', how='left')\n",
    "\n",
    "train = pd.merge(train, new, on='card_id', how='left')\n",
    "test = pd.merge(test, new, on='card_id', how='left')\n",
    "\n",
    "train = pd.merge(train, final_group, on='card_id', how='left')\n",
    "test = pd.merge(test, final_group, on='card_id', how='left')\n",
    "\n",
    "train = pd.merge(train, auth_mean, on='card_id', how='left')\n",
    "test = pd.merge(test, auth_mean, on='card_id', how='left')\n",
    "\n",
    "train = pd.merge(train, additional_fields, on='card_id', how='left')\n",
    "test = pd.merge(test, additional_fields, on='card_id', how='left')"
   ]
  },
  {
   "cell_type": "code",
   "execution_count": 35,
   "metadata": {},
   "outputs": [],
   "source": [
    "unimportant_features = ['auth_category_2_1.0_mean','auth_category_2_2.0_mean','auth_category_2_3.0_mean',\n",
    "    'auth_category_2_5.0_mean','hist_category_2_3.0_mean','hist_category_2_4.0_mean',\n",
    "    'hist_category_2_5.0_mean', 'hist_category_3_A_mean','hist_installments_min',\n",
    "    'hist_installments_std','hist_month_lag_std','hist_purchase_amount_max',\n",
    "     'hist_purchase_month_max','hist_purchase_month_min','hist_purchase_month_std',\n",
    "     'installments_min_mean','new_category_2_1.0_mean','new_category_2_2.0_mean',\n",
    "     'new_category_2_3.0_mean','new_category_2_5.0_mean','new_city_id_nunique',\n",
    "     'new_installments_std','new_state_id_nunique','purchase_amount_mean_mean']\n",
    "features = [c for c in train.columns if c not in ['card_id', 'first_active_month']]\n",
    "features = [f for f in features if f not in unimportant_features]\n",
    "categorical_feats = ['feature_2', 'feature_3']"
   ]
  },
  {
   "cell_type": "code",
   "execution_count": 45,
   "metadata": {},
   "outputs": [
    {
     "name": "stdout",
     "output_type": "stream",
     "text": [
      "fold n°0\n"
     ]
    },
    {
     "name": "stderr",
     "output_type": "stream",
     "text": [
      "/anaconda3/lib/python3.7/site-packages/lightgbm/basic.py:1194: UserWarning: Using categorical_feature in Dataset.\n",
      "  warnings.warn('Using categorical_feature in Dataset.')\n",
      "/anaconda3/lib/python3.7/site-packages/lightgbm/basic.py:753: UserWarning: categorical_feature in param dict is overridden.\n",
      "  warnings.warn('categorical_feature in param dict is overridden.')\n"
     ]
    },
    {
     "name": "stdout",
     "output_type": "stream",
     "text": [
      "Training until validation scores don't improve for 300 rounds.\n",
      "[100]\ttraining's rmse: 2.99327\tvalid_1's rmse: 3.03402\n",
      "[200]\ttraining's rmse: 2.93446\tvalid_1's rmse: 2.99178\n",
      "[300]\ttraining's rmse: 2.89788\tvalid_1's rmse: 2.97095\n",
      "[400]\ttraining's rmse: 2.87134\tvalid_1's rmse: 2.9599\n",
      "[500]\ttraining's rmse: 2.85138\tvalid_1's rmse: 2.95341\n",
      "[600]\ttraining's rmse: 2.83473\tvalid_1's rmse: 2.94946\n",
      "[700]\ttraining's rmse: 2.82129\tvalid_1's rmse: 2.9468\n",
      "[800]\ttraining's rmse: 2.8094\tvalid_1's rmse: 2.94506\n",
      "[900]\ttraining's rmse: 2.79847\tvalid_1's rmse: 2.9438\n",
      "[1000]\ttraining's rmse: 2.78822\tvalid_1's rmse: 2.94261\n",
      "[1100]\ttraining's rmse: 2.77906\tvalid_1's rmse: 2.94178\n",
      "[1200]\ttraining's rmse: 2.76978\tvalid_1's rmse: 2.94121\n",
      "[1300]\ttraining's rmse: 2.761\tvalid_1's rmse: 2.94093\n",
      "[1400]\ttraining's rmse: 2.75219\tvalid_1's rmse: 2.94054\n",
      "[1500]\ttraining's rmse: 2.74323\tvalid_1's rmse: 2.94036\n",
      "[1600]\ttraining's rmse: 2.73512\tvalid_1's rmse: 2.94012\n",
      "[1700]\ttraining's rmse: 2.72703\tvalid_1's rmse: 2.94012\n",
      "[1800]\ttraining's rmse: 2.71856\tvalid_1's rmse: 2.94023\n",
      "Early stopping, best iteration is:\n",
      "[1583]\ttraining's rmse: 2.73632\tvalid_1's rmse: 2.94004\n",
      "fold n°1\n",
      "Training until validation scores don't improve for 300 rounds.\n",
      "[100]\ttraining's rmse: 3.00457\tvalid_1's rmse: 2.98889\n",
      "[200]\ttraining's rmse: 2.94493\tvalid_1's rmse: 2.94953\n",
      "[300]\ttraining's rmse: 2.90769\tvalid_1's rmse: 2.93087\n",
      "[400]\ttraining's rmse: 2.88093\tvalid_1's rmse: 2.9215\n",
      "[500]\ttraining's rmse: 2.86063\tvalid_1's rmse: 2.91637\n",
      "[600]\ttraining's rmse: 2.84425\tvalid_1's rmse: 2.91291\n",
      "[700]\ttraining's rmse: 2.83034\tvalid_1's rmse: 2.91079\n",
      "[800]\ttraining's rmse: 2.81817\tvalid_1's rmse: 2.90923\n",
      "[900]\ttraining's rmse: 2.80759\tvalid_1's rmse: 2.90821\n",
      "[1000]\ttraining's rmse: 2.79763\tvalid_1's rmse: 2.9076\n",
      "[1100]\ttraining's rmse: 2.78767\tvalid_1's rmse: 2.90692\n",
      "[1200]\ttraining's rmse: 2.77826\tvalid_1's rmse: 2.90659\n",
      "[1300]\ttraining's rmse: 2.76947\tvalid_1's rmse: 2.90606\n",
      "[1400]\ttraining's rmse: 2.76114\tvalid_1's rmse: 2.90556\n",
      "[1500]\ttraining's rmse: 2.75312\tvalid_1's rmse: 2.90537\n",
      "[1600]\ttraining's rmse: 2.74417\tvalid_1's rmse: 2.90512\n",
      "[1700]\ttraining's rmse: 2.73647\tvalid_1's rmse: 2.90513\n",
      "[1800]\ttraining's rmse: 2.72856\tvalid_1's rmse: 2.90492\n",
      "[1900]\ttraining's rmse: 2.72056\tvalid_1's rmse: 2.90496\n",
      "[2000]\ttraining's rmse: 2.71328\tvalid_1's rmse: 2.90493\n",
      "[2100]\ttraining's rmse: 2.70562\tvalid_1's rmse: 2.90481\n",
      "[2200]\ttraining's rmse: 2.69816\tvalid_1's rmse: 2.90516\n",
      "[2300]\ttraining's rmse: 2.69095\tvalid_1's rmse: 2.9053\n",
      "Early stopping, best iteration is:\n",
      "[2029]\ttraining's rmse: 2.71109\tvalid_1's rmse: 2.90476\n",
      "fold n°2\n",
      "Training until validation scores don't improve for 300 rounds.\n",
      "[100]\ttraining's rmse: 3.00732\tvalid_1's rmse: 2.9727\n",
      "[200]\ttraining's rmse: 2.94734\tvalid_1's rmse: 2.93595\n",
      "[300]\ttraining's rmse: 2.90966\tvalid_1's rmse: 2.91895\n",
      "[400]\ttraining's rmse: 2.88248\tvalid_1's rmse: 2.90968\n",
      "[500]\ttraining's rmse: 2.86173\tvalid_1's rmse: 2.90483\n",
      "[600]\ttraining's rmse: 2.84497\tvalid_1's rmse: 2.90158\n",
      "[700]\ttraining's rmse: 2.83023\tvalid_1's rmse: 2.89917\n",
      "[800]\ttraining's rmse: 2.8178\tvalid_1's rmse: 2.89781\n",
      "[900]\ttraining's rmse: 2.8066\tvalid_1's rmse: 2.8967\n",
      "[1000]\ttraining's rmse: 2.79562\tvalid_1's rmse: 2.89626\n",
      "[1100]\ttraining's rmse: 2.78576\tvalid_1's rmse: 2.89568\n",
      "[1200]\ttraining's rmse: 2.77637\tvalid_1's rmse: 2.8954\n",
      "[1300]\ttraining's rmse: 2.76773\tvalid_1's rmse: 2.89499\n",
      "[1400]\ttraining's rmse: 2.75915\tvalid_1's rmse: 2.89472\n",
      "[1500]\ttraining's rmse: 2.75096\tvalid_1's rmse: 2.89464\n",
      "[1600]\ttraining's rmse: 2.74302\tvalid_1's rmse: 2.89477\n",
      "[1700]\ttraining's rmse: 2.73509\tvalid_1's rmse: 2.89485\n",
      "Early stopping, best iteration is:\n",
      "[1481]\ttraining's rmse: 2.75253\tvalid_1's rmse: 2.89458\n",
      "fold n°3\n",
      "Training until validation scores don't improve for 300 rounds.\n",
      "[100]\ttraining's rmse: 2.97207\tvalid_1's rmse: 3.11394\n",
      "[200]\ttraining's rmse: 2.9125\tvalid_1's rmse: 3.07355\n",
      "[300]\ttraining's rmse: 2.87543\tvalid_1's rmse: 3.05364\n",
      "[400]\ttraining's rmse: 2.84844\tvalid_1's rmse: 3.04361\n",
      "[500]\ttraining's rmse: 2.82778\tvalid_1's rmse: 3.0381\n",
      "[600]\ttraining's rmse: 2.81074\tvalid_1's rmse: 3.03461\n",
      "[700]\ttraining's rmse: 2.79671\tvalid_1's rmse: 3.03265\n",
      "[800]\ttraining's rmse: 2.78489\tvalid_1's rmse: 3.0314\n",
      "[900]\ttraining's rmse: 2.77366\tvalid_1's rmse: 3.03036\n",
      "[1000]\ttraining's rmse: 2.76374\tvalid_1's rmse: 3.0301\n",
      "[1100]\ttraining's rmse: 2.75383\tvalid_1's rmse: 3.02974\n",
      "[1200]\ttraining's rmse: 2.74467\tvalid_1's rmse: 3.0294\n",
      "[1300]\ttraining's rmse: 2.73574\tvalid_1's rmse: 3.0292\n",
      "[1400]\ttraining's rmse: 2.72696\tvalid_1's rmse: 3.02917\n",
      "[1500]\ttraining's rmse: 2.71883\tvalid_1's rmse: 3.02902\n",
      "[1600]\ttraining's rmse: 2.70998\tvalid_1's rmse: 3.02886\n",
      "[1700]\ttraining's rmse: 2.70171\tvalid_1's rmse: 3.0291\n",
      "[1800]\ttraining's rmse: 2.69374\tvalid_1's rmse: 3.02914\n",
      "[1900]\ttraining's rmse: 2.68595\tvalid_1's rmse: 3.02916\n",
      "Early stopping, best iteration is:\n",
      "[1600]\ttraining's rmse: 2.70998\tvalid_1's rmse: 3.02886\n",
      "fold n°4\n",
      "Training until validation scores don't improve for 300 rounds.\n",
      "[100]\ttraining's rmse: 3.0048\tvalid_1's rmse: 2.98043\n",
      "[200]\ttraining's rmse: 2.94443\tvalid_1's rmse: 2.9431\n",
      "[300]\ttraining's rmse: 2.90668\tvalid_1's rmse: 2.92585\n",
      "[400]\ttraining's rmse: 2.88012\tvalid_1's rmse: 2.91674\n",
      "[500]\ttraining's rmse: 2.86009\tvalid_1's rmse: 2.91174\n",
      "[600]\ttraining's rmse: 2.84386\tvalid_1's rmse: 2.90885\n",
      "[700]\ttraining's rmse: 2.82998\tvalid_1's rmse: 2.90672\n",
      "[800]\ttraining's rmse: 2.81796\tvalid_1's rmse: 2.90531\n",
      "[900]\ttraining's rmse: 2.80709\tvalid_1's rmse: 2.90462\n",
      "[1000]\ttraining's rmse: 2.79676\tvalid_1's rmse: 2.90403\n",
      "[1100]\ttraining's rmse: 2.7868\tvalid_1's rmse: 2.90385\n",
      "[1200]\ttraining's rmse: 2.77677\tvalid_1's rmse: 2.90349\n",
      "[1300]\ttraining's rmse: 2.76721\tvalid_1's rmse: 2.90332\n",
      "[1400]\ttraining's rmse: 2.75845\tvalid_1's rmse: 2.90346\n",
      "[1500]\ttraining's rmse: 2.75024\tvalid_1's rmse: 2.90349\n",
      "Early stopping, best iteration is:\n",
      "[1287]\ttraining's rmse: 2.76827\tvalid_1's rmse: 2.90325\n",
      "CV score: 3.66484 \n"
     ]
    }
   ],
   "source": [
    "from sklearn.model_selection import KFold\n",
    "from sklearn.metrics import mean_squared_error\n",
    "import lightgbm as lgb\n",
    "folds = KFold(n_splits=5, shuffle=True, random_state=15)\n",
    "oof = np.zeros(len(train))\n",
    "predictions_lgb = np.zeros(len(test))\n",
    "feature_importance_df = pd.DataFrame()\n",
    "\n",
    "for fold_, (trn_idx, val_idx) in enumerate(folds.split(train.values, target.values)):\n",
    "    print(\"fold n°{}\".format(fold_))\n",
    "    trn_data = lgb.Dataset(train.iloc[trn_idx][features],\n",
    "                           label=target.iloc[trn_idx].clip(-25,20),\n",
    "                           categorical_feature=categorical_feats\n",
    "                          )\n",
    "    val_data = lgb.Dataset(train.iloc[val_idx][features],\n",
    "                           label=target.iloc[val_idx].clip(-25,20),\n",
    "                           categorical_feature=categorical_feats\n",
    "                          )\n",
    "\n",
    "    num_round = 10000\n",
    "    clf = lgb.train(param,\n",
    "                    trn_data,\n",
    "                    num_round,\n",
    "                    valid_sets = [trn_data, val_data],\n",
    "                    verbose_eval=100,\n",
    "                    early_stopping_rounds = 300)\n",
    "    \n",
    "    oof[val_idx] = clf.predict(train.iloc[val_idx][features], num_iteration=clf.best_iteration)\n",
    "    \n",
    "    predictions_lgb += clf.predict(test[features], num_iteration=clf.best_iteration) / folds.n_splits\n",
    "\n",
    "print(\"CV score: {:<8.5f}\".format(mean_squared_error(oof, target)**0.5))"
   ]
  },
  {
   "cell_type": "code",
   "execution_count": 46,
   "metadata": {},
   "outputs": [],
   "source": [
    "sub_df = pd.DataFrame({\"card_id\":test[\"card_id\"].values})\n",
    "sub_df[\"target\"] = predictions_lgb\n",
    "sub_df.to_csv(\"submission11.csv\", index=False)"
   ]
  },
  {
   "cell_type": "code",
   "execution_count": 18,
   "metadata": {},
   "outputs": [
    {
     "data": {
      "text/plain": [
       "array([-4.09658868, -0.35268342, -1.44298011, ...,  0.89673156,\n",
       "       -4.89288533,  0.19621305])"
      ]
     },
     "execution_count": 18,
     "metadata": {},
     "output_type": "execute_result"
    }
   ],
   "source": [
    "predictions_lgb #CV score: 3.65401 for 6 fold"
   ]
  },
  {
   "cell_type": "code",
   "execution_count": 26,
   "metadata": {},
   "outputs": [
    {
     "name": "stdout",
     "output_type": "stream",
     "text": [
      "CV score: 3.65532 \n"
     ]
    }
   ],
   "source": [
    "print(\"CV score: {:<8.5f}\".format(mean_squared_error(np.clip(oof,-15,5), target)**0.5))"
   ]
  },
  {
   "cell_type": "code",
   "execution_count": 44,
   "metadata": {},
   "outputs": [
    {
     "data": {
      "text/plain": [
       "0    2\n",
       "1   -2\n",
       "2   -1\n",
       "3    5\n",
       "4    3\n",
       "dtype: int64"
      ]
     },
     "execution_count": 44,
     "metadata": {},
     "output_type": "execute_result"
    }
   ],
   "source": [
    "#oof.min(), oof.max(), target.nlargest(), target[ target>-30].nsmallest(),np.clip(target,-20,20).nsmallest()\n",
    "#len(target[target>5]), len(target[ (target > -30) & (target <-5)])\n",
    "pd.Series([2, -4, -1, 6, 3]).clip(-2,5)"
   ]
  },
  {
   "cell_type": "code",
   "execution_count": 15,
   "metadata": {},
   "outputs": [],
   "source": [
    "import time\n",
    "from sklearn.preprocessing import scale\n",
    "#from sklearn.manifold import TSNE\n",
    "from MulticoreTSNE import MulticoreTSNE as TSNE\n",
    "tsne = TSNE(n_jobs=6)\n",
    "from sklearn.decomposition import PCA\n",
    "pca= PCA( n_components= 20)\n",
    "#tsne= TSNE( n_components= 3, perplexity= 30)"
   ]
  },
  {
   "cell_type": "code",
   "execution_count": 17,
   "metadata": {},
   "outputs": [
    {
     "name": "stderr",
     "output_type": "stream",
     "text": [
      "/anaconda3/lib/python3.7/site-packages/sklearn/preprocessing/data.py:176: UserWarning: Numerical issues were encountered when centering the data and might not be solved. Dataset may contain too large values. You may need to prescale your features.\n",
      "  warnings.warn(\"Numerical issues were encountered \"\n"
     ]
    },
    {
     "name": "stdout",
     "output_type": "stream",
     "text": [
      "Entering PCA decomposition\n",
      "PCA complete after -0.04 minutes\n"
     ]
    },
    {
     "ename": "KeyboardInterrupt",
     "evalue": "",
     "output_type": "error",
     "traceback": [
      "\u001b[0;31m---------------------------------------------------------------------------\u001b[0m",
      "\u001b[0;31mKeyboardInterrupt\u001b[0m                         Traceback (most recent call last)",
      "\u001b[0;32m<ipython-input-17-004c3ef84e62>\u001b[0m in \u001b[0;36m<module>\u001b[0;34m()\u001b[0m\n\u001b[1;32m     18\u001b[0m \u001b[0mprint\u001b[0m\u001b[0;34m(\u001b[0m\u001b[0;34m'PCA complete after %.2f minutes'\u001b[0m\u001b[0;34m%\u001b[0m\u001b[0;34m(\u001b[0m\u001b[0;34m(\u001b[0m\u001b[0mstart\u001b[0m \u001b[0;34m-\u001b[0m \u001b[0mtime\u001b[0m\u001b[0;34m.\u001b[0m\u001b[0mtime\u001b[0m\u001b[0;34m(\u001b[0m\u001b[0;34m)\u001b[0m\u001b[0;34m)\u001b[0m\u001b[0;34m/\u001b[0m\u001b[0;36m60\u001b[0m\u001b[0;34m)\u001b[0m\u001b[0;34m)\u001b[0m\u001b[0;34m\u001b[0m\u001b[0;34m\u001b[0m\u001b[0m\n\u001b[1;32m     19\u001b[0m \u001b[0mstart\u001b[0m\u001b[0;34m=\u001b[0m \u001b[0mtime\u001b[0m\u001b[0;34m.\u001b[0m\u001b[0mtime\u001b[0m\u001b[0;34m(\u001b[0m\u001b[0;34m)\u001b[0m\u001b[0;34m\u001b[0m\u001b[0;34m\u001b[0m\u001b[0m\n\u001b[0;32m---> 20\u001b[0;31m \u001b[0mtsne_result\u001b[0m\u001b[0;34m=\u001b[0m \u001b[0mtsne\u001b[0m\u001b[0;34m.\u001b[0m\u001b[0mfit_transform\u001b[0m\u001b[0;34m(\u001b[0m \u001b[0mpca_result\u001b[0m\u001b[0;34m)\u001b[0m\u001b[0;34m\u001b[0m\u001b[0;34m\u001b[0m\u001b[0m\n\u001b[0m\u001b[1;32m     21\u001b[0m \u001b[0mprint\u001b[0m\u001b[0;34m(\u001b[0m\u001b[0;34m'TSNE complete after %.2f minutes'\u001b[0m\u001b[0;34m%\u001b[0m\u001b[0;34m(\u001b[0m\u001b[0;34m(\u001b[0m\u001b[0mstart\u001b[0m \u001b[0;34m-\u001b[0m \u001b[0mtime\u001b[0m\u001b[0;34m.\u001b[0m\u001b[0mtime\u001b[0m\u001b[0;34m(\u001b[0m\u001b[0;34m)\u001b[0m\u001b[0;34m)\u001b[0m\u001b[0;34m/\u001b[0m\u001b[0;36m60\u001b[0m\u001b[0;34m)\u001b[0m\u001b[0;34m)\u001b[0m\u001b[0;34m\u001b[0m\u001b[0;34m\u001b[0m\u001b[0m\n",
      "\u001b[0;32m/anaconda3/lib/python3.7/site-packages/MulticoreTSNE/__init__.py\u001b[0m in \u001b[0;36mfit_transform\u001b[0;34m(self, X, _y)\u001b[0m\n\u001b[1;32m    137\u001b[0m \u001b[0;34m\u001b[0m\u001b[0m\n\u001b[1;32m    138\u001b[0m         \u001b[0;32mwhile\u001b[0m \u001b[0mt\u001b[0m\u001b[0;34m.\u001b[0m\u001b[0mis_alive\u001b[0m\u001b[0;34m(\u001b[0m\u001b[0;34m)\u001b[0m\u001b[0;34m:\u001b[0m\u001b[0;34m\u001b[0m\u001b[0;34m\u001b[0m\u001b[0m\n\u001b[0;32m--> 139\u001b[0;31m             \u001b[0mt\u001b[0m\u001b[0;34m.\u001b[0m\u001b[0mjoin\u001b[0m\u001b[0;34m(\u001b[0m\u001b[0mtimeout\u001b[0m\u001b[0;34m=\u001b[0m\u001b[0;36m1.0\u001b[0m\u001b[0;34m)\u001b[0m\u001b[0;34m\u001b[0m\u001b[0;34m\u001b[0m\u001b[0m\n\u001b[0m\u001b[1;32m    140\u001b[0m             \u001b[0msys\u001b[0m\u001b[0;34m.\u001b[0m\u001b[0mstdout\u001b[0m\u001b[0;34m.\u001b[0m\u001b[0mflush\u001b[0m\u001b[0;34m(\u001b[0m\u001b[0;34m)\u001b[0m\u001b[0;34m\u001b[0m\u001b[0;34m\u001b[0m\u001b[0m\n\u001b[1;32m    141\u001b[0m \u001b[0;34m\u001b[0m\u001b[0m\n",
      "\u001b[0;32m/anaconda3/lib/python3.7/threading.py\u001b[0m in \u001b[0;36mjoin\u001b[0;34m(self, timeout)\u001b[0m\n\u001b[1;32m   1034\u001b[0m             \u001b[0;31m# the behavior of a negative timeout isn't documented, but\u001b[0m\u001b[0;34m\u001b[0m\u001b[0;34m\u001b[0m\u001b[0;34m\u001b[0m\u001b[0m\n\u001b[1;32m   1035\u001b[0m             \u001b[0;31m# historically .join(timeout=x) for x<0 has acted as if timeout=0\u001b[0m\u001b[0;34m\u001b[0m\u001b[0;34m\u001b[0m\u001b[0;34m\u001b[0m\u001b[0m\n\u001b[0;32m-> 1036\u001b[0;31m             \u001b[0mself\u001b[0m\u001b[0;34m.\u001b[0m\u001b[0m_wait_for_tstate_lock\u001b[0m\u001b[0;34m(\u001b[0m\u001b[0mtimeout\u001b[0m\u001b[0;34m=\u001b[0m\u001b[0mmax\u001b[0m\u001b[0;34m(\u001b[0m\u001b[0mtimeout\u001b[0m\u001b[0;34m,\u001b[0m \u001b[0;36m0\u001b[0m\u001b[0;34m)\u001b[0m\u001b[0;34m)\u001b[0m\u001b[0;34m\u001b[0m\u001b[0;34m\u001b[0m\u001b[0m\n\u001b[0m\u001b[1;32m   1037\u001b[0m \u001b[0;34m\u001b[0m\u001b[0m\n\u001b[1;32m   1038\u001b[0m     \u001b[0;32mdef\u001b[0m \u001b[0m_wait_for_tstate_lock\u001b[0m\u001b[0;34m(\u001b[0m\u001b[0mself\u001b[0m\u001b[0;34m,\u001b[0m \u001b[0mblock\u001b[0m\u001b[0;34m=\u001b[0m\u001b[0;32mTrue\u001b[0m\u001b[0;34m,\u001b[0m \u001b[0mtimeout\u001b[0m\u001b[0;34m=\u001b[0m\u001b[0;34m-\u001b[0m\u001b[0;36m1\u001b[0m\u001b[0;34m)\u001b[0m\u001b[0;34m:\u001b[0m\u001b[0;34m\u001b[0m\u001b[0;34m\u001b[0m\u001b[0m\n",
      "\u001b[0;32m/anaconda3/lib/python3.7/threading.py\u001b[0m in \u001b[0;36m_wait_for_tstate_lock\u001b[0;34m(self, block, timeout)\u001b[0m\n\u001b[1;32m   1046\u001b[0m         \u001b[0;32mif\u001b[0m \u001b[0mlock\u001b[0m \u001b[0;32mis\u001b[0m \u001b[0;32mNone\u001b[0m\u001b[0;34m:\u001b[0m  \u001b[0;31m# already determined that the C code is done\u001b[0m\u001b[0;34m\u001b[0m\u001b[0;34m\u001b[0m\u001b[0m\n\u001b[1;32m   1047\u001b[0m             \u001b[0;32massert\u001b[0m \u001b[0mself\u001b[0m\u001b[0;34m.\u001b[0m\u001b[0m_is_stopped\u001b[0m\u001b[0;34m\u001b[0m\u001b[0;34m\u001b[0m\u001b[0m\n\u001b[0;32m-> 1048\u001b[0;31m         \u001b[0;32melif\u001b[0m \u001b[0mlock\u001b[0m\u001b[0;34m.\u001b[0m\u001b[0macquire\u001b[0m\u001b[0;34m(\u001b[0m\u001b[0mblock\u001b[0m\u001b[0;34m,\u001b[0m \u001b[0mtimeout\u001b[0m\u001b[0;34m)\u001b[0m\u001b[0;34m:\u001b[0m\u001b[0;34m\u001b[0m\u001b[0;34m\u001b[0m\u001b[0m\n\u001b[0m\u001b[1;32m   1049\u001b[0m             \u001b[0mlock\u001b[0m\u001b[0;34m.\u001b[0m\u001b[0mrelease\u001b[0m\u001b[0;34m(\u001b[0m\u001b[0;34m)\u001b[0m\u001b[0;34m\u001b[0m\u001b[0;34m\u001b[0m\u001b[0m\n\u001b[1;32m   1050\u001b[0m             \u001b[0mself\u001b[0m\u001b[0;34m.\u001b[0m\u001b[0m_stop\u001b[0m\u001b[0;34m(\u001b[0m\u001b[0;34m)\u001b[0m\u001b[0;34m\u001b[0m\u001b[0;34m\u001b[0m\u001b[0m\n",
      "\u001b[0;31mKeyboardInterrupt\u001b[0m: "
     ]
    }
   ],
   "source": [
    "pca_his= pd.merge( auth_mean, history, on='card_id',how='left')\n",
    "pca_his= pca_his.merge( authorized, on='card_id', how='left')\n",
    "pca_his= pca_his.merge( final_group, on='card_id', how='left')\n",
    "auth_ins= [ 'auth_installments_sum', 'auth_installments_mean',\n",
    " 'auth_installments_max','auth_installments_min', 'auth_installments_std']\n",
    "ins_to_drop=[]\n",
    "for col in pca_his.columns.values:\n",
    "    if 'insta' in col and col not in auth_ins: \n",
    "        ins_to_drop.append(col)\n",
    "dates_to_drop= ['hist_purchase_date_ptp','hist_purchase_date_min','hist_purchase_date_max']\n",
    "pca_his.drop( dates_to_drop+ins_to_drop+['card_id'], axis= 1, inplace= True)\n",
    "pca_his.fillna( method= 'ffill', inplace= True)\n",
    "pca_his= pca_his.values\n",
    "pca_his= scale( pca_his)\n",
    "print('Entering PCA decomposition')\n",
    "start= time.time()\n",
    "pca_result= pca.fit_transform( pca_his)\n",
    "print('PCA complete after %.2f minutes'%((start - time.time())/60))\n",
    "start= time.time()\n",
    "tsne_result= tsne.fit_transform( pca_result)\n",
    "print('TSNE complete after %.2f minutes'%((start - time.time())/60))"
   ]
  },
  {
   "cell_type": "code",
   "execution_count": 49,
   "metadata": {},
   "outputs": [
    {
     "data": {
      "text/plain": [
       "((325540, 2), (201917, 163))"
      ]
     },
     "execution_count": 49,
     "metadata": {},
     "output_type": "execute_result"
    }
   ],
   "source": [
    "auth_mean.shape, train.shape"
   ]
  },
  {
   "cell_type": "code",
   "execution_count": null,
   "metadata": {},
   "outputs": [],
   "source": [
    "tsne_frame= pd.DataFrame( {\n",
    "    'card_id': auth_mean.card_id,\n",
    "    'tsne_1': tsne_result[:,0],\n",
    "    'tsne_2': tsne_result[:,1],\n",
    "    'tsne_3': tsne_result[:,2]\n",
    "})"
   ]
  },
  {
   "cell_type": "code",
   "execution_count": null,
   "metadata": {},
   "outputs": [],
   "source": [
    "train= train.merge( tsne_frame, on='card_id', how='left')\n",
    "test= test.merge( tsne_frame, on='card_id', how='left')\n",
    "\n",
    "folds = KFold(n_splits=5, shuffle=True, random_state=15)\n",
    "oof = np.zeros(len(train))\n",
    "predictions_lgb = np.zeros(len(test))\n",
    "feature_importance_df = pd.DataFrame()\n",
    "\n",
    "for fold_, (trn_idx, val_idx) in enumerate(folds.split(train.values, target.values)):\n",
    "    print(\"fold n°{}\".format(fold_))\n",
    "    trn_data = lgb.Dataset(train.iloc[trn_idx][features],\n",
    "                           label=target.iloc[trn_idx],\n",
    "                           categorical_feature=categorical_feats\n",
    "                          )\n",
    "    val_data = lgb.Dataset(train.iloc[val_idx][features],\n",
    "                           label=target.iloc[val_idx],\n",
    "                           categorical_feature=categorical_feats\n",
    "                          )\n",
    "\n",
    "    num_round = 10000\n",
    "    clf = lgb.train(param,\n",
    "                    trn_data,\n",
    "                    num_round,\n",
    "                    valid_sets = [trn_data, val_data],\n",
    "                    verbose_eval=100,\n",
    "                    early_stopping_rounds = 300)\n",
    "    \n",
    "    oof[val_idx] = clf.predict(train.iloc[val_idx][features], num_iteration=clf.best_iteration)\n",
    "    \n",
    "    fold_importance_df = pd.DataFrame()\n",
    "    fold_importance_df[\"feature\"] = features\n",
    "    fold_importance_df[\"importance\"] = clf.feature_importance()\n",
    "    fold_importance_df[\"fold\"] = fold_ + 1\n",
    "    feature_importance_df = pd.concat([feature_importance_df, fold_importance_df], axis=0)\n",
    "    \n",
    "    predictions_lgb += clf.predict(test[features], num_iteration=clf.best_iteration) / folds.n_splits\n",
    "\n",
    "print(\"CV score: {:<8.5f}\".format(mean_squared_error(oof, target)**0.5))"
   ]
  },
  {
   "cell_type": "code",
   "execution_count": 16,
   "metadata": {},
   "outputs": [
    {
     "data": {
      "text/plain": [
       "float"
      ]
     },
     "execution_count": 16,
     "metadata": {},
     "output_type": "execute_result"
    }
   ],
   "source": [
    "type(time.time())"
   ]
  },
  {
   "cell_type": "code",
   "execution_count": 21,
   "metadata": {},
   "outputs": [
    {
     "name": "stdout",
     "output_type": "stream",
     "text": [
      "-9.20\n"
     ]
    }
   ],
   "source": [
    "print('%.2f'%((start - time.time())/60))"
   ]
  },
  {
   "cell_type": "code",
   "execution_count": 18,
   "metadata": {},
   "outputs": [
    {
     "data": {
      "text/plain": [
       "(325540, 20)"
      ]
     },
     "execution_count": 18,
     "metadata": {},
     "output_type": "execute_result"
    }
   ],
   "source": [
    "pca_result.shape"
   ]
  },
  {
   "cell_type": "code",
   "execution_count": 19,
   "metadata": {},
   "outputs": [
    {
     "data": {
      "text/plain": [
       "1549334928.883981"
      ]
     },
     "execution_count": 19,
     "metadata": {},
     "output_type": "execute_result"
    }
   ],
   "source": [
    "start"
   ]
  },
  {
   "cell_type": "code",
   "execution_count": 16,
   "metadata": {},
   "outputs": [
    {
     "data": {
      "text/plain": [
       "<MulticoreTSNE.MulticoreTSNE at 0x1b80ead978>"
      ]
     },
     "execution_count": 16,
     "metadata": {},
     "output_type": "execute_result"
    }
   ],
   "source": [
    "tsne"
   ]
  },
  {
   "cell_type": "code",
   "execution_count": null,
   "metadata": {},
   "outputs": [],
   "source": []
  },
  {
   "cell_type": "code",
   "execution_count": null,
   "metadata": {},
   "outputs": [],
   "source": []
  },
  {
   "cell_type": "code",
   "execution_count": null,
   "metadata": {},
   "outputs": [],
   "source": []
  },
  {
   "cell_type": "code",
   "execution_count": null,
   "metadata": {},
   "outputs": [],
   "source": []
  },
  {
   "cell_type": "code",
   "execution_count": null,
   "metadata": {},
   "outputs": [],
   "source": []
  },
  {
   "cell_type": "code",
   "execution_count": null,
   "metadata": {},
   "outputs": [],
   "source": []
  },
  {
   "cell_type": "code",
   "execution_count": 11,
   "metadata": {},
   "outputs": [],
   "source": [
    "knn_his= pd.merge( auth_mean, history, on='card_id',how='left')\n",
    "knn_his= knn_his.merge( authorized, on='card_id', how='left')\n",
    "knn_his= knn_his.merge( final_group, on='card_id', how='left')"
   ]
  },
  {
   "cell_type": "code",
   "execution_count": 12,
   "metadata": {},
   "outputs": [
    {
     "data": {
      "text/html": [
       "<div>\n",
       "<style scoped>\n",
       "    .dataframe tbody tr th:only-of-type {\n",
       "        vertical-align: middle;\n",
       "    }\n",
       "\n",
       "    .dataframe tbody tr th {\n",
       "        vertical-align: top;\n",
       "    }\n",
       "\n",
       "    .dataframe thead th {\n",
       "        text-align: right;\n",
       "    }\n",
       "</style>\n",
       "<table border=\"1\" class=\"dataframe\">\n",
       "  <thead>\n",
       "    <tr style=\"text-align: right;\">\n",
       "      <th></th>\n",
       "      <th>card_id</th>\n",
       "      <th>authorized_flag_mean</th>\n",
       "      <th>hist_transactions_count</th>\n",
       "      <th>hist_category_1_sum</th>\n",
       "      <th>hist_category_1_mean</th>\n",
       "      <th>hist_category_2_1.0_mean</th>\n",
       "      <th>hist_category_2_2.0_mean</th>\n",
       "      <th>hist_category_2_3.0_mean</th>\n",
       "      <th>hist_category_2_4.0_mean</th>\n",
       "      <th>hist_category_2_5.0_mean</th>\n",
       "      <th>...</th>\n",
       "      <th>installments_sum_mean</th>\n",
       "      <th>installments_sum_std</th>\n",
       "      <th>installments_mean_mean</th>\n",
       "      <th>installments_mean_std</th>\n",
       "      <th>installments_min_mean</th>\n",
       "      <th>installments_min_std</th>\n",
       "      <th>installments_max_mean</th>\n",
       "      <th>installments_max_std</th>\n",
       "      <th>installments_std_mean</th>\n",
       "      <th>installments_std_std</th>\n",
       "    </tr>\n",
       "  </thead>\n",
       "  <tbody>\n",
       "    <tr>\n",
       "      <th>0</th>\n",
       "      <td>C_ID_00007093c1</td>\n",
       "      <td>0.765101</td>\n",
       "      <td>35.0</td>\n",
       "      <td>4.0</td>\n",
       "      <td>0.114286</td>\n",
       "      <td>0.000000</td>\n",
       "      <td>0.000000</td>\n",
       "      <td>0.885714</td>\n",
       "      <td>0.0</td>\n",
       "      <td>0.000000</td>\n",
       "      <td>...</td>\n",
       "      <td>11.307692</td>\n",
       "      <td>4.210792</td>\n",
       "      <td>1.369646</td>\n",
       "      <td>0.423190</td>\n",
       "      <td>1.000000</td>\n",
       "      <td>0.000000</td>\n",
       "      <td>2.538462</td>\n",
       "      <td>1.613246</td>\n",
       "      <td>0.625428</td>\n",
       "      <td>0.675607</td>\n",
       "    </tr>\n",
       "    <tr>\n",
       "      <th>1</th>\n",
       "      <td>C_ID_0001238066</td>\n",
       "      <td>0.975610</td>\n",
       "      <td>3.0</td>\n",
       "      <td>0.0</td>\n",
       "      <td>0.000000</td>\n",
       "      <td>0.333333</td>\n",
       "      <td>0.000000</td>\n",
       "      <td>0.000000</td>\n",
       "      <td>0.0</td>\n",
       "      <td>0.666667</td>\n",
       "      <td>...</td>\n",
       "      <td>32.500000</td>\n",
       "      <td>24.501020</td>\n",
       "      <td>1.652873</td>\n",
       "      <td>0.410539</td>\n",
       "      <td>0.666667</td>\n",
       "      <td>0.816497</td>\n",
       "      <td>4.666667</td>\n",
       "      <td>2.875181</td>\n",
       "      <td>1.256525</td>\n",
       "      <td>0.521292</td>\n",
       "    </tr>\n",
       "    <tr>\n",
       "      <th>2</th>\n",
       "      <td>C_ID_0001506ef0</td>\n",
       "      <td>0.939394</td>\n",
       "      <td>4.0</td>\n",
       "      <td>0.0</td>\n",
       "      <td>0.000000</td>\n",
       "      <td>0.000000</td>\n",
       "      <td>0.000000</td>\n",
       "      <td>1.000000</td>\n",
       "      <td>0.0</td>\n",
       "      <td>0.000000</td>\n",
       "      <td>...</td>\n",
       "      <td>0.000000</td>\n",
       "      <td>0.000000</td>\n",
       "      <td>0.000000</td>\n",
       "      <td>0.000000</td>\n",
       "      <td>0.000000</td>\n",
       "      <td>0.000000</td>\n",
       "      <td>0.000000</td>\n",
       "      <td>0.000000</td>\n",
       "      <td>0.000000</td>\n",
       "      <td>0.000000</td>\n",
       "    </tr>\n",
       "    <tr>\n",
       "      <th>3</th>\n",
       "      <td>C_ID_0001793786</td>\n",
       "      <td>0.875000</td>\n",
       "      <td>27.0</td>\n",
       "      <td>2.0</td>\n",
       "      <td>0.074074</td>\n",
       "      <td>0.111111</td>\n",
       "      <td>0.296296</td>\n",
       "      <td>0.111111</td>\n",
       "      <td>0.0</td>\n",
       "      <td>0.000000</td>\n",
       "      <td>...</td>\n",
       "      <td>0.000000</td>\n",
       "      <td>0.000000</td>\n",
       "      <td>0.000000</td>\n",
       "      <td>0.000000</td>\n",
       "      <td>0.000000</td>\n",
       "      <td>0.000000</td>\n",
       "      <td>0.000000</td>\n",
       "      <td>0.000000</td>\n",
       "      <td>0.000000</td>\n",
       "      <td>0.000000</td>\n",
       "    </tr>\n",
       "    <tr>\n",
       "      <th>4</th>\n",
       "      <td>C_ID_000183fdda</td>\n",
       "      <td>0.951389</td>\n",
       "      <td>7.0</td>\n",
       "      <td>0.0</td>\n",
       "      <td>0.000000</td>\n",
       "      <td>0.000000</td>\n",
       "      <td>0.000000</td>\n",
       "      <td>1.000000</td>\n",
       "      <td>0.0</td>\n",
       "      <td>0.000000</td>\n",
       "      <td>...</td>\n",
       "      <td>40.833333</td>\n",
       "      <td>14.048725</td>\n",
       "      <td>1.834943</td>\n",
       "      <td>0.362557</td>\n",
       "      <td>0.333333</td>\n",
       "      <td>1.032796</td>\n",
       "      <td>9.166667</td>\n",
       "      <td>2.041241</td>\n",
       "      <td>2.144389</td>\n",
       "      <td>0.665529</td>\n",
       "    </tr>\n",
       "  </tbody>\n",
       "</table>\n",
       "<p>5 rows × 104 columns</p>\n",
       "</div>"
      ],
      "text/plain": [
       "           card_id  authorized_flag_mean  hist_transactions_count  \\\n",
       "0  C_ID_00007093c1              0.765101                     35.0   \n",
       "1  C_ID_0001238066              0.975610                      3.0   \n",
       "2  C_ID_0001506ef0              0.939394                      4.0   \n",
       "3  C_ID_0001793786              0.875000                     27.0   \n",
       "4  C_ID_000183fdda              0.951389                      7.0   \n",
       "\n",
       "   hist_category_1_sum  hist_category_1_mean  hist_category_2_1.0_mean  \\\n",
       "0                  4.0              0.114286                  0.000000   \n",
       "1                  0.0              0.000000                  0.333333   \n",
       "2                  0.0              0.000000                  0.000000   \n",
       "3                  2.0              0.074074                  0.111111   \n",
       "4                  0.0              0.000000                  0.000000   \n",
       "\n",
       "   hist_category_2_2.0_mean  hist_category_2_3.0_mean  \\\n",
       "0                  0.000000                  0.885714   \n",
       "1                  0.000000                  0.000000   \n",
       "2                  0.000000                  1.000000   \n",
       "3                  0.296296                  0.111111   \n",
       "4                  0.000000                  1.000000   \n",
       "\n",
       "   hist_category_2_4.0_mean  hist_category_2_5.0_mean          ...           \\\n",
       "0                       0.0                  0.000000          ...            \n",
       "1                       0.0                  0.666667          ...            \n",
       "2                       0.0                  0.000000          ...            \n",
       "3                       0.0                  0.000000          ...            \n",
       "4                       0.0                  0.000000          ...            \n",
       "\n",
       "   installments_sum_mean  installments_sum_std  installments_mean_mean  \\\n",
       "0              11.307692              4.210792                1.369646   \n",
       "1              32.500000             24.501020                1.652873   \n",
       "2               0.000000              0.000000                0.000000   \n",
       "3               0.000000              0.000000                0.000000   \n",
       "4              40.833333             14.048725                1.834943   \n",
       "\n",
       "   installments_mean_std  installments_min_mean  installments_min_std  \\\n",
       "0               0.423190               1.000000              0.000000   \n",
       "1               0.410539               0.666667              0.816497   \n",
       "2               0.000000               0.000000              0.000000   \n",
       "3               0.000000               0.000000              0.000000   \n",
       "4               0.362557               0.333333              1.032796   \n",
       "\n",
       "   installments_max_mean  installments_max_std  installments_std_mean  \\\n",
       "0               2.538462              1.613246               0.625428   \n",
       "1               4.666667              2.875181               1.256525   \n",
       "2               0.000000              0.000000               0.000000   \n",
       "3               0.000000              0.000000               0.000000   \n",
       "4               9.166667              2.041241               2.144389   \n",
       "\n",
       "   installments_std_std  \n",
       "0              0.675607  \n",
       "1              0.521292  \n",
       "2              0.000000  \n",
       "3              0.000000  \n",
       "4              0.665529  \n",
       "\n",
       "[5 rows x 104 columns]"
      ]
     },
     "execution_count": 12,
     "metadata": {},
     "output_type": "execute_result"
    }
   ],
   "source": [
    "knn_his[:5]"
   ]
  },
  {
   "cell_type": "code",
   "execution_count": 13,
   "metadata": {},
   "outputs": [],
   "source": [
    "auth_ins= [ 'auth_installments_sum', 'auth_installments_mean',\n",
    " 'auth_installments_max','auth_installments_min', 'auth_installments_std']\n",
    "ins_to_drop=[]\n",
    "for col in knn_his.columns.values:\n",
    "    if 'insta' in col and col not in auth_ins: \n",
    "        ins_to_drop.append(col)\n",
    "#ins_to_drop"
   ]
  },
  {
   "cell_type": "code",
   "execution_count": 14,
   "metadata": {},
   "outputs": [],
   "source": [
    "dates_to_drop= ['hist_purchase_date_ptp','hist_purchase_date_min','hist_purchase_date_max']"
   ]
  },
  {
   "cell_type": "code",
   "execution_count": 15,
   "metadata": {},
   "outputs": [
    {
     "name": "stderr",
     "output_type": "stream",
     "text": [
      "/anaconda3/lib/python3.7/site-packages/pandas/core/frame.py:3697: SettingWithCopyWarning: \n",
      "A value is trying to be set on a copy of a slice from a DataFrame\n",
      "\n",
      "See the caveats in the documentation: http://pandas.pydata.org/pandas-docs/stable/indexing.html#indexing-view-versus-copy\n",
      "  errors=errors)\n"
     ]
    }
   ],
   "source": [
    "new_missing_card= set(auth_mean.card_id) - set(new.card_id)\n",
    "missing_idx= knn_his.loc[ knn_his.card_id.isin(list(new_missing_card))].index.values\n",
    "to_KNN_rows= knn_his.iloc[ missing_idx]\n",
    "knn_his.drop( knn_his.index[ missing_idx], inplace= True)\n",
    "knn_his.drop( dates_to_drop+ins_to_drop+['card_id'], axis= 1, inplace= True)\n",
    "to_KNN_rows.drop( dates_to_drop+ins_to_drop+['card_id'], axis= 1, inplace= True)"
   ]
  },
  {
   "cell_type": "code",
   "execution_count": 16,
   "metadata": {},
   "outputs": [
    {
     "name": "stderr",
     "output_type": "stream",
     "text": [
      "/anaconda3/lib/python3.7/site-packages/pandas/core/frame.py:3790: SettingWithCopyWarning: \n",
      "A value is trying to be set on a copy of a slice from a DataFrame\n",
      "\n",
      "See the caveats in the documentation: http://pandas.pydata.org/pandas-docs/stable/indexing.html#indexing-view-versus-copy\n",
      "  downcast=downcast, **kwargs)\n",
      "/anaconda3/lib/python3.7/site-packages/sklearn/preprocessing/data.py:176: UserWarning: Numerical issues were encountered when centering the data and might not be solved. Dataset may contain too large values. You may need to prescale your features.\n",
      "  warnings.warn(\"Numerical issues were encountered \"\n",
      "/anaconda3/lib/python3.7/site-packages/sklearn/preprocessing/data.py:176: UserWarning: Numerical issues were encountered when centering the data and might not be solved. Dataset may contain too large values. You may need to prescale your features.\n",
      "  warnings.warn(\"Numerical issues were encountered \"\n"
     ]
    }
   ],
   "source": [
    "from sklearn.preprocessing import scale\n",
    "knn_his.fillna( method= 'ffill', inplace= True)\n",
    "to_KNN_rows.fillna( method= 'ffill', inplace= True)\n",
    "knn_his= scale(knn_his.values)\n",
    "to_KNN_rows= scale(to_KNN_rows.values)"
   ]
  },
  {
   "cell_type": "code",
   "execution_count": 17,
   "metadata": {},
   "outputs": [
    {
     "data": {
      "text/html": [
       "<div>\n",
       "<style scoped>\n",
       "    .dataframe tbody tr th:only-of-type {\n",
       "        vertical-align: middle;\n",
       "    }\n",
       "\n",
       "    .dataframe tbody tr th {\n",
       "        vertical-align: top;\n",
       "    }\n",
       "\n",
       "    .dataframe thead th {\n",
       "        text-align: right;\n",
       "    }\n",
       "</style>\n",
       "<table border=\"1\" class=\"dataframe\">\n",
       "  <thead>\n",
       "    <tr style=\"text-align: right;\">\n",
       "      <th></th>\n",
       "      <th>card_id</th>\n",
       "      <th>new_transactions_count</th>\n",
       "      <th>new_category_1_sum</th>\n",
       "      <th>new_category_1_mean</th>\n",
       "      <th>new_category_2_1.0_mean</th>\n",
       "      <th>new_category_2_2.0_mean</th>\n",
       "      <th>new_category_2_3.0_mean</th>\n",
       "      <th>new_category_2_4.0_mean</th>\n",
       "      <th>new_category_2_5.0_mean</th>\n",
       "      <th>new_category_3_A_mean</th>\n",
       "      <th>...</th>\n",
       "      <th>new_purchase_month_min</th>\n",
       "      <th>new_purchase_month_std</th>\n",
       "      <th>new_purchase_date_ptp</th>\n",
       "      <th>new_purchase_date_min</th>\n",
       "      <th>new_purchase_date_max</th>\n",
       "      <th>new_month_lag_mean</th>\n",
       "      <th>new_month_lag_max</th>\n",
       "      <th>new_month_lag_min</th>\n",
       "      <th>new_month_lag_std</th>\n",
       "      <th>new_month_diff_mean</th>\n",
       "    </tr>\n",
       "  </thead>\n",
       "  <tbody>\n",
       "  </tbody>\n",
       "</table>\n",
       "<p>0 rows × 39 columns</p>\n",
       "</div>"
      ],
      "text/plain": [
       "Empty DataFrame\n",
       "Columns: [card_id, new_transactions_count, new_category_1_sum, new_category_1_mean, new_category_2_1.0_mean, new_category_2_2.0_mean, new_category_2_3.0_mean, new_category_2_4.0_mean, new_category_2_5.0_mean, new_category_3_A_mean, new_category_3_B_mean, new_category_3_C_mean, new_merchant_id_nunique, new_merchant_category_id_nunique, new_state_id_nunique, new_city_id_nunique, new_subsector_id_nunique, new_purchase_amount_sum, new_purchase_amount_mean, new_purchase_amount_max, new_purchase_amount_min, new_purchase_amount_std, new_installments_sum, new_installments_mean, new_installments_max, new_installments_min, new_installments_std, new_purchase_month_mean, new_purchase_month_max, new_purchase_month_min, new_purchase_month_std, new_purchase_date_ptp, new_purchase_date_min, new_purchase_date_max, new_month_lag_mean, new_month_lag_max, new_month_lag_min, new_month_lag_std, new_month_diff_mean]\n",
       "Index: []\n",
       "\n",
       "[0 rows x 39 columns]"
      ]
     },
     "execution_count": 17,
     "metadata": {},
     "output_type": "execute_result"
    }
   ],
   "source": [
    "new.loc[ new.card_id.isin(list(new_missing_card))]"
   ]
  },
  {
   "cell_type": "code",
   "execution_count": 18,
   "metadata": {},
   "outputs": [],
   "source": [
    "from sklearn.neighbors import NearestNeighbors\n",
    "from tqdm import tqdm_notebook\n",
    "neigh= NearestNeighbors( n_neighbors= 1, algorithm= 'ball_tree')\n",
    "neigh.fit(knn_his) \n",
    "knn_idx= []\n",
    "#for i in tqdm_notebook( missing_idx):\n",
    " #   knn_idx.append(neigh.kneighbors(knn_his[i].reshape(1,-1), 2, return_distance=False))\n",
    "\n",
    "from multiprocessing import Pool\n",
    "\n",
    "def f(x):\n",
    "    return neigh.kneighbors(x.reshape(1,-1), 1, return_distance=False)\n",
    "\n",
    "if __name__ == '__main__':\n",
    "    with Pool(50) as p:\n",
    "        knn_idx= p.map(f, to_KNN_rows)"
   ]
  },
  {
   "cell_type": "code",
   "execution_count": 22,
   "metadata": {},
   "outputs": [],
   "source": [
    "knn_idx;"
   ]
  },
  {
   "cell_type": "code",
   "execution_count": 20,
   "metadata": {},
   "outputs": [
    {
     "ename": "NameError",
     "evalue": "name 'new_and_additional' is not defined",
     "output_type": "error",
     "traceback": [
      "\u001b[0;31m---------------------------------------------------------------------------\u001b[0m",
      "\u001b[0;31mNameError\u001b[0m                                 Traceback (most recent call last)",
      "\u001b[0;32m<ipython-input-20-af907ebf5244>\u001b[0m in \u001b[0;36m<module>\u001b[0;34m()\u001b[0m\n\u001b[0;32m----> 1\u001b[0;31m \u001b[0mnp\u001b[0m\u001b[0;34m.\u001b[0m\u001b[0marray\u001b[0m\u001b[0;34m(\u001b[0m\u001b[0mknn_idx\u001b[0m\u001b[0;34m)\u001b[0m\u001b[0;34m.\u001b[0m\u001b[0msqueeze\u001b[0m\u001b[0;34m(\u001b[0m\u001b[0;34m)\u001b[0m\u001b[0;34m.\u001b[0m\u001b[0mmax\u001b[0m\u001b[0;34m(\u001b[0m\u001b[0;34m)\u001b[0m\u001b[0;34m,\u001b[0m\u001b[0mnew_and_additional\u001b[0m\u001b[0;34m.\u001b[0m\u001b[0mshape\u001b[0m\u001b[0;34m\u001b[0m\u001b[0;34m\u001b[0m\u001b[0m\n\u001b[0m",
      "\u001b[0;31mNameError\u001b[0m: name 'new_and_additional' is not defined"
     ]
    }
   ],
   "source": [
    "np.array(knn_idx).squeeze().max(),new_and_additional.shape"
   ]
  },
  {
   "cell_type": "code",
   "execution_count": 23,
   "metadata": {},
   "outputs": [
    {
     "data": {
      "application/vnd.jupyter.widget-view+json": {
       "model_id": "d022120405354139bb57d1fc468c1d08",
       "version_major": 2,
       "version_minor": 0
      },
      "text/plain": [
       "HBox(children=(IntProgress(value=0, max=35539), HTML(value='')))"
      ]
     },
     "metadata": {},
     "output_type": "display_data"
    },
    {
     "name": "stdout",
     "output_type": "stream",
     "text": [
      "\n"
     ]
    }
   ],
   "source": [
    "new_and_additional= pd.merge( new, additional_fields, how='left', on= 'card_id')\n",
    "\n",
    "cards_temp= auth_mean.drop( auth_mean.index[ missing_idx]).reset_index().card_id\n",
    "neighbors_found= []\n",
    "for i in tqdm_notebook(np.array(knn_idx).squeeze()):\n",
    "    neighbors_found.append( cards_temp[ i])"
   ]
  },
  {
   "cell_type": "code",
   "execution_count": 269,
   "metadata": {},
   "outputs": [
    {
     "data": {
      "text/plain": [
       "(31641, 55)"
      ]
     },
     "execution_count": 269,
     "metadata": {},
     "output_type": "execute_result"
    }
   ],
   "source": [
    "knnized.shape"
   ]
  },
  {
   "cell_type": "code",
   "execution_count": 24,
   "metadata": {},
   "outputs": [],
   "source": [
    "from multiprocessing import Pool\n",
    "\n",
    "def f(x):\n",
    "    return new_and_additional[ new_and_additional.card_id == x].index.values\n",
    "\n",
    "if __name__ == '__main__':\n",
    "    with Pool(50) as p:\n",
    "        knn_new_idx= p.map(f, neighbors_found)"
   ]
  },
  {
   "cell_type": "code",
   "execution_count": 25,
   "metadata": {},
   "outputs": [
    {
     "data": {
      "text/html": [
       "<div>\n",
       "<style scoped>\n",
       "    .dataframe tbody tr th:only-of-type {\n",
       "        vertical-align: middle;\n",
       "    }\n",
       "\n",
       "    .dataframe tbody tr th {\n",
       "        vertical-align: top;\n",
       "    }\n",
       "\n",
       "    .dataframe thead th {\n",
       "        text-align: right;\n",
       "    }\n",
       "</style>\n",
       "<table border=\"1\" class=\"dataframe\">\n",
       "  <thead>\n",
       "    <tr style=\"text-align: right;\">\n",
       "      <th></th>\n",
       "      <th>card_id</th>\n",
       "      <th>new_transactions_count</th>\n",
       "      <th>new_category_1_sum</th>\n",
       "      <th>new_category_1_mean</th>\n",
       "      <th>new_category_2_1.0_mean</th>\n",
       "      <th>new_category_2_2.0_mean</th>\n",
       "      <th>new_category_2_3.0_mean</th>\n",
       "      <th>new_category_2_4.0_mean</th>\n",
       "      <th>new_category_2_5.0_mean</th>\n",
       "      <th>new_category_3_A_mean</th>\n",
       "      <th>...</th>\n",
       "      <th>installments_purchase_amount_max</th>\n",
       "      <th>installments_purchase_amount_std</th>\n",
       "      <th>city_id_purchase_amount_mean</th>\n",
       "      <th>city_id_purchase_amount_min</th>\n",
       "      <th>city_id_purchase_amount_max</th>\n",
       "      <th>city_id_purchase_amount_std</th>\n",
       "      <th>category_1_installments_mean</th>\n",
       "      <th>category_1_installments_min</th>\n",
       "      <th>category_1_installments_max</th>\n",
       "      <th>category_1_installments_std</th>\n",
       "    </tr>\n",
       "  </thead>\n",
       "  <tbody>\n",
       "    <tr>\n",
       "      <th>286101</th>\n",
       "      <td>C_ID_fca69660df</td>\n",
       "      <td>2</td>\n",
       "      <td>0</td>\n",
       "      <td>0.0</td>\n",
       "      <td>0.0</td>\n",
       "      <td>0.0</td>\n",
       "      <td>1.0</td>\n",
       "      <td>0.0</td>\n",
       "      <td>0.0</td>\n",
       "      <td>1.0</td>\n",
       "      <td>...</td>\n",
       "      <td>-0.701828</td>\n",
       "      <td>NaN</td>\n",
       "      <td>-0.701828</td>\n",
       "      <td>-0.716855</td>\n",
       "      <td>-0.686802</td>\n",
       "      <td>0.021251</td>\n",
       "      <td>0.0</td>\n",
       "      <td>0.0</td>\n",
       "      <td>0.0</td>\n",
       "      <td>NaN</td>\n",
       "    </tr>\n",
       "    <tr>\n",
       "      <th>152222</th>\n",
       "      <td>C_ID_8678bd8950</td>\n",
       "      <td>4</td>\n",
       "      <td>0</td>\n",
       "      <td>0.0</td>\n",
       "      <td>0.0</td>\n",
       "      <td>0.0</td>\n",
       "      <td>1.0</td>\n",
       "      <td>0.0</td>\n",
       "      <td>0.0</td>\n",
       "      <td>1.0</td>\n",
       "      <td>...</td>\n",
       "      <td>-0.587161</td>\n",
       "      <td>NaN</td>\n",
       "      <td>-0.587161</td>\n",
       "      <td>-0.587161</td>\n",
       "      <td>-0.587161</td>\n",
       "      <td>NaN</td>\n",
       "      <td>0.0</td>\n",
       "      <td>0.0</td>\n",
       "      <td>0.0</td>\n",
       "      <td>NaN</td>\n",
       "    </tr>\n",
       "  </tbody>\n",
       "</table>\n",
       "<p>2 rows × 55 columns</p>\n",
       "</div>"
      ],
      "text/plain": [
       "                card_id  new_transactions_count  new_category_1_sum  \\\n",
       "286101  C_ID_fca69660df                       2                   0   \n",
       "152222  C_ID_8678bd8950                       4                   0   \n",
       "\n",
       "        new_category_1_mean  new_category_2_1.0_mean  new_category_2_2.0_mean  \\\n",
       "286101                  0.0                      0.0                      0.0   \n",
       "152222                  0.0                      0.0                      0.0   \n",
       "\n",
       "        new_category_2_3.0_mean  new_category_2_4.0_mean  \\\n",
       "286101                      1.0                      0.0   \n",
       "152222                      1.0                      0.0   \n",
       "\n",
       "        new_category_2_5.0_mean  new_category_3_A_mean  \\\n",
       "286101                      0.0                    1.0   \n",
       "152222                      0.0                    1.0   \n",
       "\n",
       "                   ...               installments_purchase_amount_max  \\\n",
       "286101             ...                                      -0.701828   \n",
       "152222             ...                                      -0.587161   \n",
       "\n",
       "        installments_purchase_amount_std  city_id_purchase_amount_mean  \\\n",
       "286101                               NaN                     -0.701828   \n",
       "152222                               NaN                     -0.587161   \n",
       "\n",
       "        city_id_purchase_amount_min  city_id_purchase_amount_max  \\\n",
       "286101                    -0.716855                    -0.686802   \n",
       "152222                    -0.587161                    -0.587161   \n",
       "\n",
       "        city_id_purchase_amount_std  category_1_installments_mean  \\\n",
       "286101                     0.021251                           0.0   \n",
       "152222                          NaN                           0.0   \n",
       "\n",
       "        category_1_installments_min  category_1_installments_max  \\\n",
       "286101                          0.0                          0.0   \n",
       "152222                          0.0                          0.0   \n",
       "\n",
       "        category_1_installments_std  \n",
       "286101                          NaN  \n",
       "152222                          NaN  \n",
       "\n",
       "[2 rows x 55 columns]"
      ]
     },
     "execution_count": 25,
     "metadata": {},
     "output_type": "execute_result"
    }
   ],
   "source": [
    "knnized= pd.merge( new, additional_fields, how='left', on= 'card_id').reindex( np.array(knn_new_idx).reshape(1,-1).squeeze())\n",
    "knnized[:2]"
   ]
  },
  {
   "cell_type": "code",
   "execution_count": 26,
   "metadata": {},
   "outputs": [
    {
     "data": {
      "text/html": [
       "<div>\n",
       "<style scoped>\n",
       "    .dataframe tbody tr th:only-of-type {\n",
       "        vertical-align: middle;\n",
       "    }\n",
       "\n",
       "    .dataframe tbody tr th {\n",
       "        vertical-align: top;\n",
       "    }\n",
       "\n",
       "    .dataframe thead th {\n",
       "        text-align: right;\n",
       "    }\n",
       "</style>\n",
       "<table border=\"1\" class=\"dataframe\">\n",
       "  <thead>\n",
       "    <tr style=\"text-align: right;\">\n",
       "      <th></th>\n",
       "      <th>card_id</th>\n",
       "      <th>new_transactions_count</th>\n",
       "      <th>new_category_1_sum</th>\n",
       "      <th>new_category_1_mean</th>\n",
       "      <th>new_category_2_1.0_mean</th>\n",
       "      <th>new_category_2_2.0_mean</th>\n",
       "      <th>new_category_2_3.0_mean</th>\n",
       "      <th>new_category_2_4.0_mean</th>\n",
       "      <th>new_category_2_5.0_mean</th>\n",
       "      <th>new_category_3_A_mean</th>\n",
       "      <th>...</th>\n",
       "      <th>installments_purchase_amount_max</th>\n",
       "      <th>installments_purchase_amount_std</th>\n",
       "      <th>city_id_purchase_amount_mean</th>\n",
       "      <th>city_id_purchase_amount_min</th>\n",
       "      <th>city_id_purchase_amount_max</th>\n",
       "      <th>city_id_purchase_amount_std</th>\n",
       "      <th>category_1_installments_mean</th>\n",
       "      <th>category_1_installments_min</th>\n",
       "      <th>category_1_installments_max</th>\n",
       "      <th>category_1_installments_std</th>\n",
       "    </tr>\n",
       "  </thead>\n",
       "  <tbody>\n",
       "    <tr>\n",
       "      <th>286101</th>\n",
       "      <td>C_ID_c3971c0a58</td>\n",
       "      <td>2</td>\n",
       "      <td>0</td>\n",
       "      <td>0.0</td>\n",
       "      <td>0.0</td>\n",
       "      <td>0.0</td>\n",
       "      <td>1.0</td>\n",
       "      <td>0.0</td>\n",
       "      <td>0.0</td>\n",
       "      <td>1.0</td>\n",
       "      <td>...</td>\n",
       "      <td>-0.701828</td>\n",
       "      <td>NaN</td>\n",
       "      <td>-0.701828</td>\n",
       "      <td>-0.716855</td>\n",
       "      <td>-0.686802</td>\n",
       "      <td>0.021251</td>\n",
       "      <td>0.0</td>\n",
       "      <td>0.0</td>\n",
       "      <td>0.0</td>\n",
       "      <td>NaN</td>\n",
       "    </tr>\n",
       "    <tr>\n",
       "      <th>152222</th>\n",
       "      <td>C_ID_5f883fe64d</td>\n",
       "      <td>4</td>\n",
       "      <td>0</td>\n",
       "      <td>0.0</td>\n",
       "      <td>0.0</td>\n",
       "      <td>0.0</td>\n",
       "      <td>1.0</td>\n",
       "      <td>0.0</td>\n",
       "      <td>0.0</td>\n",
       "      <td>1.0</td>\n",
       "      <td>...</td>\n",
       "      <td>-0.587161</td>\n",
       "      <td>NaN</td>\n",
       "      <td>-0.587161</td>\n",
       "      <td>-0.587161</td>\n",
       "      <td>-0.587161</td>\n",
       "      <td>NaN</td>\n",
       "      <td>0.0</td>\n",
       "      <td>0.0</td>\n",
       "      <td>0.0</td>\n",
       "      <td>NaN</td>\n",
       "    </tr>\n",
       "  </tbody>\n",
       "</table>\n",
       "<p>2 rows × 55 columns</p>\n",
       "</div>"
      ],
      "text/plain": [
       "                card_id  new_transactions_count  new_category_1_sum  \\\n",
       "286101  C_ID_c3971c0a58                       2                   0   \n",
       "152222  C_ID_5f883fe64d                       4                   0   \n",
       "\n",
       "        new_category_1_mean  new_category_2_1.0_mean  new_category_2_2.0_mean  \\\n",
       "286101                  0.0                      0.0                      0.0   \n",
       "152222                  0.0                      0.0                      0.0   \n",
       "\n",
       "        new_category_2_3.0_mean  new_category_2_4.0_mean  \\\n",
       "286101                      1.0                      0.0   \n",
       "152222                      1.0                      0.0   \n",
       "\n",
       "        new_category_2_5.0_mean  new_category_3_A_mean  \\\n",
       "286101                      0.0                    1.0   \n",
       "152222                      0.0                    1.0   \n",
       "\n",
       "                   ...               installments_purchase_amount_max  \\\n",
       "286101             ...                                      -0.701828   \n",
       "152222             ...                                      -0.587161   \n",
       "\n",
       "        installments_purchase_amount_std  city_id_purchase_amount_mean  \\\n",
       "286101                               NaN                     -0.701828   \n",
       "152222                               NaN                     -0.587161   \n",
       "\n",
       "        city_id_purchase_amount_min  city_id_purchase_amount_max  \\\n",
       "286101                    -0.716855                    -0.686802   \n",
       "152222                    -0.587161                    -0.587161   \n",
       "\n",
       "        city_id_purchase_amount_std  category_1_installments_mean  \\\n",
       "286101                     0.021251                           0.0   \n",
       "152222                          NaN                           0.0   \n",
       "\n",
       "        category_1_installments_min  category_1_installments_max  \\\n",
       "286101                          0.0                          0.0   \n",
       "152222                          0.0                          0.0   \n",
       "\n",
       "        category_1_installments_std  \n",
       "286101                          NaN  \n",
       "152222                          NaN  \n",
       "\n",
       "[2 rows x 55 columns]"
      ]
     },
     "execution_count": 26,
     "metadata": {},
     "output_type": "execute_result"
    }
   ],
   "source": [
    "knnized.card_id= list(new_missing_card)\n",
    "knnized[:2]"
   ]
  },
  {
   "cell_type": "code",
   "execution_count": 27,
   "metadata": {},
   "outputs": [],
   "source": [
    "knnized_final= pd.concat( [new_and_additional,knnized],axis= 0)"
   ]
  },
  {
   "cell_type": "code",
   "execution_count": 325,
   "metadata": {},
   "outputs": [
    {
     "data": {
      "text/plain": [
       "((325540, 55), (325540, 2))"
      ]
     },
     "execution_count": 325,
     "metadata": {},
     "output_type": "execute_result"
    }
   ],
   "source": [
    "knnized_final.shape,auth_mean.shape"
   ]
  },
  {
   "cell_type": "code",
   "execution_count": 28,
   "metadata": {},
   "outputs": [],
   "source": [
    "train = pd.merge(train, history, on='card_id', how='left')\n",
    "test = pd.merge(test, history, on='card_id', how='left')\n",
    "\n",
    "train = pd.merge(train, authorized, on='card_id', how='left')\n",
    "test = pd.merge(test, authorized, on='card_id', how='left')\n",
    "\n",
    "train = pd.merge(train, final_group, on='card_id', how='left')\n",
    "test = pd.merge(test, final_group, on='card_id', how='left')\n",
    "\n",
    "train = pd.merge(train, auth_mean, on='card_id', how='left')\n",
    "test = pd.merge(test, auth_mean, on='card_id', how='left')\n",
    "\n",
    "train = pd.merge(train, knnized_final, on='card_id', how='left')\n",
    "test = pd.merge(test, knnized_final, on='card_id', how='left')"
   ]
  },
  {
   "cell_type": "code",
   "execution_count": 33,
   "metadata": {},
   "outputs": [
    {
     "name": "stdout",
     "output_type": "stream",
     "text": [
      "fold n°0\n"
     ]
    },
    {
     "name": "stderr",
     "output_type": "stream",
     "text": [
      "/anaconda3/lib/python3.7/site-packages/lightgbm/basic.py:1194: UserWarning: Using categorical_feature in Dataset.\n",
      "  warnings.warn('Using categorical_feature in Dataset.')\n",
      "/anaconda3/lib/python3.7/site-packages/lightgbm/basic.py:753: UserWarning: categorical_feature in param dict is overridden.\n",
      "  warnings.warn('categorical_feature in param dict is overridden.')\n"
     ]
    },
    {
     "name": "stdout",
     "output_type": "stream",
     "text": [
      "Training until validation scores don't improve for 200 rounds.\n",
      "[100]\ttraining's rmse: 3.71893\tvalid_1's rmse: 3.80633\n",
      "[200]\ttraining's rmse: 3.6535\tvalid_1's rmse: 3.76261\n",
      "[300]\ttraining's rmse: 3.61111\tvalid_1's rmse: 3.74069\n",
      "[400]\ttraining's rmse: 3.58061\tvalid_1's rmse: 3.72873\n",
      "[500]\ttraining's rmse: 3.55656\tvalid_1's rmse: 3.72218\n",
      "[600]\ttraining's rmse: 3.53705\tvalid_1's rmse: 3.71846\n",
      "[700]\ttraining's rmse: 3.52016\tvalid_1's rmse: 3.71646\n",
      "[800]\ttraining's rmse: 3.50523\tvalid_1's rmse: 3.71492\n",
      "[900]\ttraining's rmse: 3.49142\tvalid_1's rmse: 3.7138\n",
      "[1000]\ttraining's rmse: 3.4783\tvalid_1's rmse: 3.71303\n",
      "[1100]\ttraining's rmse: 3.46628\tvalid_1's rmse: 3.71227\n",
      "[1200]\ttraining's rmse: 3.45468\tvalid_1's rmse: 3.71168\n",
      "[1300]\ttraining's rmse: 3.44362\tvalid_1's rmse: 3.71152\n",
      "[1400]\ttraining's rmse: 3.43344\tvalid_1's rmse: 3.71141\n",
      "[1500]\ttraining's rmse: 3.42333\tvalid_1's rmse: 3.71098\n",
      "[1600]\ttraining's rmse: 3.4137\tvalid_1's rmse: 3.71088\n",
      "[1700]\ttraining's rmse: 3.40404\tvalid_1's rmse: 3.71091\n",
      "[1800]\ttraining's rmse: 3.3944\tvalid_1's rmse: 3.71086\n",
      "[1900]\ttraining's rmse: 3.38482\tvalid_1's rmse: 3.71075\n",
      "[2000]\ttraining's rmse: 3.37601\tvalid_1's rmse: 3.71095\n",
      "Early stopping, best iteration is:\n",
      "[1862]\ttraining's rmse: 3.38867\tvalid_1's rmse: 3.7107\n",
      "fold n°1\n",
      "Training until validation scores don't improve for 200 rounds.\n",
      "[100]\ttraining's rmse: 3.74485\tvalid_1's rmse: 3.69539\n",
      "[200]\ttraining's rmse: 3.67903\tvalid_1's rmse: 3.65504\n",
      "[300]\ttraining's rmse: 3.63636\tvalid_1's rmse: 3.6358\n",
      "[400]\ttraining's rmse: 3.60551\tvalid_1's rmse: 3.62562\n",
      "[500]\ttraining's rmse: 3.58157\tvalid_1's rmse: 3.61961\n",
      "[600]\ttraining's rmse: 3.5618\tvalid_1's rmse: 3.61615\n",
      "[700]\ttraining's rmse: 3.54522\tvalid_1's rmse: 3.61385\n",
      "[800]\ttraining's rmse: 3.53058\tvalid_1's rmse: 3.61244\n",
      "[900]\ttraining's rmse: 3.51687\tvalid_1's rmse: 3.61143\n",
      "[1000]\ttraining's rmse: 3.50444\tvalid_1's rmse: 3.61091\n",
      "[1100]\ttraining's rmse: 3.49306\tvalid_1's rmse: 3.61037\n",
      "[1200]\ttraining's rmse: 3.48188\tvalid_1's rmse: 3.61028\n",
      "[1300]\ttraining's rmse: 3.47067\tvalid_1's rmse: 3.6099\n",
      "[1400]\ttraining's rmse: 3.46056\tvalid_1's rmse: 3.60948\n",
      "[1500]\ttraining's rmse: 3.44999\tvalid_1's rmse: 3.60906\n",
      "[1600]\ttraining's rmse: 3.43984\tvalid_1's rmse: 3.60899\n",
      "[1700]\ttraining's rmse: 3.43033\tvalid_1's rmse: 3.60891\n",
      "[1800]\ttraining's rmse: 3.42075\tvalid_1's rmse: 3.60859\n",
      "[1900]\ttraining's rmse: 3.41152\tvalid_1's rmse: 3.60863\n",
      "Early stopping, best iteration is:\n",
      "[1799]\ttraining's rmse: 3.42087\tvalid_1's rmse: 3.60856\n",
      "fold n°2\n",
      "Training until validation scores don't improve for 200 rounds.\n",
      "[100]\ttraining's rmse: 3.71683\tvalid_1's rmse: 3.81532\n",
      "[200]\ttraining's rmse: 3.65133\tvalid_1's rmse: 3.77042\n",
      "[300]\ttraining's rmse: 3.60924\tvalid_1's rmse: 3.74807\n",
      "[400]\ttraining's rmse: 3.57914\tvalid_1's rmse: 3.73505\n",
      "[500]\ttraining's rmse: 3.55529\tvalid_1's rmse: 3.72808\n",
      "[600]\ttraining's rmse: 3.53665\tvalid_1's rmse: 3.72375\n",
      "[700]\ttraining's rmse: 3.51985\tvalid_1's rmse: 3.72081\n",
      "[800]\ttraining's rmse: 3.50521\tvalid_1's rmse: 3.71851\n",
      "[900]\ttraining's rmse: 3.4919\tvalid_1's rmse: 3.71721\n",
      "[1000]\ttraining's rmse: 3.47944\tvalid_1's rmse: 3.71601\n",
      "[1100]\ttraining's rmse: 3.46762\tvalid_1's rmse: 3.71541\n",
      "[1200]\ttraining's rmse: 3.45646\tvalid_1's rmse: 3.71484\n",
      "[1300]\ttraining's rmse: 3.44605\tvalid_1's rmse: 3.71426\n",
      "[1400]\ttraining's rmse: 3.43496\tvalid_1's rmse: 3.71405\n",
      "[1500]\ttraining's rmse: 3.42465\tvalid_1's rmse: 3.71358\n",
      "[1600]\ttraining's rmse: 3.41521\tvalid_1's rmse: 3.71325\n",
      "[1700]\ttraining's rmse: 3.40566\tvalid_1's rmse: 3.71308\n",
      "[1800]\ttraining's rmse: 3.39536\tvalid_1's rmse: 3.713\n",
      "[1900]\ttraining's rmse: 3.38552\tvalid_1's rmse: 3.71314\n",
      "Early stopping, best iteration is:\n",
      "[1792]\ttraining's rmse: 3.39631\tvalid_1's rmse: 3.71294\n",
      "fold n°3\n",
      "Training until validation scores don't improve for 200 rounds.\n",
      "[100]\ttraining's rmse: 3.75026\tvalid_1's rmse: 3.66533\n",
      "[200]\ttraining's rmse: 3.68208\tvalid_1's rmse: 3.62916\n",
      "[300]\ttraining's rmse: 3.63847\tvalid_1's rmse: 3.61334\n",
      "[400]\ttraining's rmse: 3.60754\tvalid_1's rmse: 3.60464\n",
      "[500]\ttraining's rmse: 3.58299\tvalid_1's rmse: 3.60019\n",
      "[600]\ttraining's rmse: 3.5633\tvalid_1's rmse: 3.59766\n",
      "[700]\ttraining's rmse: 3.5468\tvalid_1's rmse: 3.59598\n",
      "[800]\ttraining's rmse: 3.53109\tvalid_1's rmse: 3.59516\n",
      "[900]\ttraining's rmse: 3.51764\tvalid_1's rmse: 3.59477\n",
      "[1000]\ttraining's rmse: 3.50521\tvalid_1's rmse: 3.59431\n",
      "[1100]\ttraining's rmse: 3.49298\tvalid_1's rmse: 3.59377\n",
      "[1200]\ttraining's rmse: 3.48189\tvalid_1's rmse: 3.59338\n",
      "[1300]\ttraining's rmse: 3.47066\tvalid_1's rmse: 3.59304\n",
      "[1400]\ttraining's rmse: 3.45944\tvalid_1's rmse: 3.59302\n",
      "[1500]\ttraining's rmse: 3.44891\tvalid_1's rmse: 3.5933\n",
      "Early stopping, best iteration is:\n",
      "[1303]\ttraining's rmse: 3.47037\tvalid_1's rmse: 3.59297\n",
      "fold n°4\n",
      "Training until validation scores don't improve for 200 rounds.\n",
      "[100]\ttraining's rmse: 3.71914\tvalid_1's rmse: 3.80179\n",
      "[200]\ttraining's rmse: 3.65238\tvalid_1's rmse: 3.76191\n",
      "[300]\ttraining's rmse: 3.60958\tvalid_1's rmse: 3.74333\n",
      "[400]\ttraining's rmse: 3.57833\tvalid_1's rmse: 3.73351\n",
      "[500]\ttraining's rmse: 3.55452\tvalid_1's rmse: 3.72787\n",
      "[600]\ttraining's rmse: 3.53567\tvalid_1's rmse: 3.72465\n",
      "[700]\ttraining's rmse: 3.51919\tvalid_1's rmse: 3.72278\n",
      "[800]\ttraining's rmse: 3.5045\tvalid_1's rmse: 3.72104\n",
      "[900]\ttraining's rmse: 3.49152\tvalid_1's rmse: 3.72028\n",
      "[1000]\ttraining's rmse: 3.47909\tvalid_1's rmse: 3.7197\n",
      "[1100]\ttraining's rmse: 3.46703\tvalid_1's rmse: 3.71937\n",
      "[1200]\ttraining's rmse: 3.45483\tvalid_1's rmse: 3.71907\n",
      "[1300]\ttraining's rmse: 3.44367\tvalid_1's rmse: 3.71879\n",
      "[1400]\ttraining's rmse: 3.43291\tvalid_1's rmse: 3.71861\n",
      "[1500]\ttraining's rmse: 3.42232\tvalid_1's rmse: 3.71837\n",
      "[1600]\ttraining's rmse: 3.41251\tvalid_1's rmse: 3.71839\n",
      "Early stopping, best iteration is:\n",
      "[1459]\ttraining's rmse: 3.42649\tvalid_1's rmse: 3.71825\n",
      "CV score: 3.66911 \n"
     ]
    }
   ],
   "source": [
    "param = {'num_leaves': 111,\n",
    "         'min_data_in_leaf': 149, \n",
    "         'objective':'regression',\n",
    "         'max_depth': 9,\n",
    "         'learning_rate': 0.005,\n",
    "         \"boosting\": \"gbdt\",\n",
    "         \"feature_fraction\": 0.7522,\n",
    "         \"bagging_freq\": 1,\n",
    "         \"bagging_fraction\": 0.7083 ,\n",
    "         \"bagging_seed\": 11,\n",
    "         \"metric\": 'rmse',\n",
    "         \"lambda_l1\": 0.2634,\n",
    "         \"random_state\": 133,\n",
    "         \"verbosity\": -1}\n",
    "features = [c for c in train.columns if c not in ['card_id', 'first_active_month']]\n",
    "categorical_feats= ['feature_2','feature_3']\n",
    "from sklearn.model_selection import KFold\n",
    "from sklearn.metrics import mean_squared_error\n",
    "import lightgbm as lgb\n",
    "folds = KFold(n_splits=5, shuffle=True, random_state=14)\n",
    "oof = np.zeros(len(train))\n",
    "predictions_lgb = np.zeros(len(test))\n",
    "feature_importance_df = pd.DataFrame()\n",
    "\n",
    "for fold_, (trn_idx, val_idx) in enumerate(folds.split(train.values, target.values)):\n",
    "    print(\"fold n°{}\".format(fold_))\n",
    "    trn_data = lgb.Dataset(train.iloc[trn_idx][features],\n",
    "                           label=target.iloc[trn_idx],\n",
    "                           categorical_feature=categorical_feats\n",
    "                          )\n",
    "    val_data = lgb.Dataset(train.iloc[val_idx][features],\n",
    "                           label=target.iloc[val_idx],\n",
    "                           categorical_feature=categorical_feats\n",
    "                          )\n",
    "\n",
    "    num_round = 10000\n",
    "    clf = lgb.train(param,\n",
    "                    trn_data,\n",
    "                    num_round,\n",
    "                    valid_sets = [trn_data, val_data],\n",
    "                    verbose_eval=100,\n",
    "                    early_stopping_rounds = 200)\n",
    "    \n",
    "    oof[val_idx] = clf.predict(train.iloc[val_idx][features], num_iteration=clf.best_iteration)\n",
    "    \n",
    "    fold_importance_df = pd.DataFrame()\n",
    "    fold_importance_df[\"feature\"] = features\n",
    "    fold_importance_df[\"importance\"] = clf.feature_importance()\n",
    "    fold_importance_df[\"fold\"] = fold_ + 1\n",
    "    feature_importance_df = pd.concat([feature_importance_df, fold_importance_df], axis=0)\n",
    "    \n",
    "    predictions_lgb += clf.predict(test[features], num_iteration=clf.best_iteration) / folds.n_splits\n",
    "\n",
    "print(\"CV score: {:<8.5f}\".format(mean_squared_error(oof, target)**0.5))"
   ]
  },
  {
   "cell_type": "code",
   "execution_count": null,
   "metadata": {},
   "outputs": [],
   "source": []
  },
  {
   "cell_type": "code",
   "execution_count": null,
   "metadata": {},
   "outputs": [],
   "source": [
    ">>> X = [[0], [1], [2], [3]]\n",
    ">>> y = [0, 0, 1, 1]\n",
    ">>> from sklearn.neighbors import KNeighborsRegressor\n",
    ">>> neigh = KNeighborsRegressor(n_neighbors=2)\n",
    ">>> neigh.fit(X, y) \n",
    "KNeighborsRegressor(...)\n",
    ">>> print(neigh.predict([[1.5]]))\n",
    "[0.5]"
   ]
  },
  {
   "cell_type": "code",
   "execution_count": 329,
   "metadata": {},
   "outputs": [],
   "source": [
    "from sklearn.linear_model import LinearRegression\n",
    "from sklearn.neighbors import KNeighborsRegressor"
   ]
  },
  {
   "cell_type": "code",
   "execution_count": 335,
   "metadata": {},
   "outputs": [],
   "source": [
    "unimportant_features = ['auth_category_2_1.0_mean','auth_category_2_2.0_mean',\n",
    "    'auth_category_2_3.0_mean','auth_category_2_5.0_mean','hist_category_2_3.0_mean','hist_category_2_4.0_mean',\n",
    "    'hist_category_2_5.0_mean','hist_category_3_A_mean','hist_installments_min',\n",
    "    'hist_installments_std','hist_month_lag_std','hist_purchase_amount_max','hist_purchase_month_max',\n",
    "    'hist_purchase_month_min','hist_purchase_month_std','installments_min_mean',\n",
    "    'new_category_2_1.0_mean','new_category_2_2.0_mean','new_category_2_3.0_mean',\n",
    "    'new_category_2_5.0_mean','new_city_id_nunique','new_installments_std',\n",
    "    'new_state_id_nunique','purchase_amount_mean_mean']\n",
    "features_ens = [f for f in features if f not in unimportant_features]"
   ]
  },
  {
   "cell_type": "code",
   "execution_count": 336,
   "metadata": {},
   "outputs": [
    {
     "data": {
      "text/plain": [
       "KNeighborsRegressor(algorithm='auto', leaf_size=30, metric='minkowski',\n",
       "          metric_params=None, n_jobs=None, n_neighbors=5, p=2,\n",
       "          weights='uniform')"
      ]
     },
     "execution_count": 336,
     "metadata": {},
     "output_type": "execute_result"
    }
   ],
   "source": [
    "linear= LinearRegression()\n",
    "linear.fit( train[features_ens].fillna(0), target)\n",
    "neigh= KNeighborsRegressor( n_neighbors= 5)\n",
    "neigh.fit( train[features_ens].fillna(0), target)"
   ]
  },
  {
   "cell_type": "code",
   "execution_count": 339,
   "metadata": {},
   "outputs": [],
   "source": [
    "pred_linear= linear.predict( test[features_ens].fillna(0))\n",
    "pred_knn= neigh.predict( test[ features_ens].fillna(0))"
   ]
  },
  {
   "cell_type": "code",
   "execution_count": null,
   "metadata": {},
   "outputs": [],
   "source": [
    "alphas= np.arange(0, 1.02, 0.1)\n",
    "\n",
    "# YOUR CODE GOES HERE\n",
    "convex_mix_score= []\n",
    "for alpha in alphas:\n",
    "    for beta in np.arange( 0, alphas - 1.01, 0.1)\n",
    "        convex_mix= X_train_level2[:,0]*alpha + X_train_level2[:,1]*(1-alpha)\n",
    "        convex_mix_score.append( r2_score( y_train_level2, convex_mix))\n",
    "best_alpha = np.argmax( convex_mix_score)/1000\n",
    "r2_train_simple_mix = np.max( convex_mix_score)# YOUR CODE GOES HERE\n",
    "print('Best alpha: %f; Corresponding r2 score on train: %f' % (best_alpha, r2_train_simple_mix))"
   ]
  },
  {
   "cell_type": "code",
   "execution_count": 340,
   "metadata": {},
   "outputs": [
    {
     "name": "stdout",
     "output_type": "stream",
     "text": [
      "Linear score: 3.76510 \n",
      "KNN score: 3.40429 \n"
     ]
    }
   ],
   "source": [
    "print(\"Linear score: {:<8.5f}\".format(mean_squared_error(pred_linear, target)**0.5))\n",
    "print(\"KNN score: {:<8.5f}\".format(mean_squared_error(pred_knn, target)**0.5))"
   ]
  },
  {
   "cell_type": "code",
   "execution_count": 369,
   "metadata": {},
   "outputs": [],
   "source": [
    "pred_submit= predictions_lgb*0.8 +  predictions_linear*0.2\n",
    "sub_df = pd.DataFrame({\"card_id\":test[\"card_id\"].values})\n",
    "sub_df[\"target\"] = predictions_lgb\n",
    "sub_df.to_csv(\"submission3.csv\", index=False)"
   ]
  },
  {
   "cell_type": "code",
   "execution_count": 353,
   "metadata": {},
   "outputs": [
    {
     "name": "stdout",
     "output_type": "stream",
     "text": [
      "Linear fold #0\n",
      "Linear fold #1\n",
      "Linear fold #2\n",
      "Linear fold #3\n",
      "Linear fold #4\n",
      "CV score: 3.77408 \n"
     ]
    }
   ],
   "source": [
    "#Linear CV\n",
    "folds = KFold(n_splits=5, shuffle=True, random_state=15)\n",
    "oof = np.zeros(len(train))\n",
    "predictions_linear = np.zeros(len(test))\n",
    "\n",
    "for fold_, (trn_idx, val_idx) in enumerate(folds.split(train.values, target.values)):\n",
    "    print('Linear fold #%d'%fold_)\n",
    "    linear.fit( train.iloc[ trn_idx][features_ens].fillna(0), target[ trn_idx])\n",
    "\n",
    "    oof[val_idx] = linear.predict(train.iloc[val_idx][features_ens].fillna(0))\n",
    "    predictions += linear.predict(test[features_ens].fillna(0)) / folds.n_splits\n",
    "\n",
    "print(\"CV score: {:<8.5f}\".format(mean_squared_error(oof, target)**0.5))"
   ]
  },
  {
   "cell_type": "code",
   "execution_count": 349,
   "metadata": {},
   "outputs": [
    {
     "name": "stdout",
     "output_type": "stream",
     "text": [
      "KNN fold #0\n",
      "KNN fold #1\n",
      "KNN fold #2\n",
      "KNN fold #3\n",
      "KNN fold #4\n",
      "CV score: 4.17760 \n"
     ]
    }
   ],
   "source": [
    "#KNN CV\n",
    "folds = KFold(n_splits=5, shuffle=True, random_state=15)\n",
    "oof = np.zeros(len(train))\n",
    "predictions_knn = np.zeros(len(test))\n",
    "\n",
    "for fold_, (trn_idx, val_idx) in enumerate(folds.split(train.values, target.values)):\n",
    "    print('KNN fold #%d'%fold_)\n",
    "    neigh.fit( train.iloc[ trn_idx][features_ens].fillna(0), target[ trn_idx])\n",
    "\n",
    "    oof[val_idx] = neigh.predict(train.iloc[val_idx][features_ens].fillna(0))\n",
    "    predictions += neigh.predict(test[features_ens].fillna(0)) / folds.n_splits\n",
    "\n",
    "print(\"CV score: {:<8.5f}\".format(mean_squared_error(oof, target)**0.5))"
   ]
  },
  {
   "cell_type": "code",
   "execution_count": 49,
   "metadata": {},
   "outputs": [
    {
     "name": "stderr",
     "output_type": "stream",
     "text": [
      "/anaconda3/lib/python3.7/site-packages/ipykernel_launcher.py:2: DeprecationWarning: `factorial` is deprecated!\n",
      "Importing `factorial` from scipy.misc is deprecated in scipy 1.0.0. Use `scipy.special.factorial` instead.\n",
      "  \n",
      "/anaconda3/lib/python3.7/site-packages/ipykernel_launcher.py:2: RuntimeWarning: invalid value encountered in true_divide\n",
      "  \n"
     ]
    },
    {
     "data": {
      "text/plain": [
       "nan"
      ]
     },
     "execution_count": 49,
     "metadata": {},
     "output_type": "execute_result"
    }
   ],
   "source": [
    "from scipy.misc import factorial\n",
    "factorial(365)/(factorial(20)*factorial(345))"
   ]
  },
  {
   "cell_type": "code",
   "execution_count": 48,
   "metadata": {},
   "outputs": [
    {
     "name": "stderr",
     "output_type": "stream",
     "text": [
      "/anaconda3/lib/python3.7/site-packages/ipykernel_launcher.py:1: DeprecationWarning: `factorial` is deprecated!\n",
      "Importing `factorial` from scipy.misc is deprecated in scipy 1.0.0. Use `scipy.special.factorial` instead.\n",
      "  \"\"\"Entry point for launching an IPython kernel.\n"
     ]
    },
    {
     "data": {
      "text/plain": [
       "array(120.)"
      ]
     },
     "execution_count": 48,
     "metadata": {},
     "output_type": "execute_result"
    }
   ],
   "source": [
    "factorial(5)"
   ]
  },
  {
   "cell_type": "code",
   "execution_count": 57,
   "metadata": {},
   "outputs": [
    {
     "name": "stderr",
     "output_type": "stream",
     "text": [
      "/anaconda3/lib/python3.7/site-packages/ipykernel_launcher.py:1: DeprecationWarning: `factorial` is deprecated!\n",
      "Importing `factorial` from scipy.misc is deprecated in scipy 1.0.0. Use `scipy.special.factorial` instead.\n",
      "  \"\"\"Entry point for launching an IPython kernel.\n"
     ]
    }
   ],
   "source": [
    "b=1/(factorial(20))#*factorial(345))*factorial(365)"
   ]
  },
  {
   "cell_type": "code",
   "execution_count": 92,
   "metadata": {},
   "outputs": [
    {
     "data": {
      "image/png": "[encoded data removed]",
      "text/plain": [
       "<Figure size 864x360 with 1 Axes>"
      ]
     },
     "metadata": {
      "needs_background": "light"
     },
     "output_type": "display_data"
    }
   ],
   "source": [
    "n= np.arange(50,80,1)\n",
    "rat= []\n",
    "for i in n:\n",
    "    b= 1\n",
    "    for j in range(366-i,366):\n",
    "        b= j*b/365\n",
    "    rat.append(b)\n",
    "import matplotlib.pyplot as plt\n",
    "%matplotlib inline\n",
    "plt.figure( figsize= [12,5])\n",
    "plt.plot( n, rat)\n",
    "plt.grid()"
   ]
  },
  {
   "cell_type": "code",
   "execution_count": 66,
   "metadata": {},
   "outputs": [
    {
     "data": {
      "text/plain": [
       "0.5885616164194201"
      ]
     },
     "execution_count": 66,
     "metadata": {},
     "output_type": "execute_result"
    }
   ],
   "source": [
    "b/365**20"
   ]
  },
  {
   "cell_type": "code",
   "execution_count": 75,
   "metadata": {},
   "outputs": [
    {
     "data": {
      "text/plain": [
       "5.898119322627624e-257"
      ]
     },
     "execution_count": 75,
     "metadata": {},
     "output_type": "execute_result"
    }
   ],
   "source": [
    "1/365**100"
   ]
  },
  {
   "cell_type": "code",
   "execution_count": 76,
   "metadata": {},
   "outputs": [
    {
     "data": {
      "text/plain": [
       "array([ 2,  3,  4,  5,  6,  7,  8,  9, 10, 11, 12, 13, 14, 15, 16, 17, 18,\n",
       "       19, 20, 21, 22, 23, 24, 25, 26, 27, 28, 29])"
      ]
     },
     "execution_count": 76,
     "metadata": {},
     "output_type": "execute_result"
    }
   ],
   "source": [
    "n"
   ]
  },
  {
   "cell_type": "code",
   "execution_count": null,
   "metadata": {},
   "outputs": [],
   "source": []
  }
 ],
 "metadata": {
  "kernelspec": {
   "display_name": "Python 3",
   "language": "python",
   "name": "python3"
  },
  "language_info": {
   "codemirror_mode": {
    "name": "ipython",
    "version": 3
   },
   "file_extension": ".py",
   "mimetype": "text/x-python",
   "name": "python",
   "nbconvert_exporter": "python",
   "pygments_lexer": "ipython3",
   "version": "3.7.1"
  }
 },
 "nbformat": 4,
 "nbformat_minor": 2
}
